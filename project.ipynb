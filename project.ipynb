{
 "cells": [
  {
   "cell_type": "code",
   "execution_count": 1,
   "id": "dd9a3e75",
   "metadata": {},
   "outputs": [],
   "source": [
    "import numpy as np\n",
    "import pandas as pd\n",
    "import seaborn as sns\n",
    "sns.set()\n",
    "from matplotlib import pyplot as plt \n",
    "from sklearn import preprocessing\n",
    "from sklearn.model_selection import train_test_split, GridSearchCV\n",
    "from sklearn.metrics import accuracy_score\n",
    "from sklearn.preprocessing import LabelEncoder \n",
    "import lightgbm as lgb\n",
    "from lightgbm import LGBMClassifier\n",
    "\n",
    "import warnings \n",
    "warnings.filterwarnings('ignore')   #ask\n",
    "%config InLineBackend.figure_format = 'retina'\n"
   ]
  },
  {
   "cell_type": "markdown",
   "id": "36cf7b8a",
   "metadata": {},
   "source": [
    "# # # # # #"
   ]
  },
  {
   "cell_type": "code",
   "execution_count": 2,
   "id": "f2c60f35",
   "metadata": {},
   "outputs": [
    {
     "name": "stdout",
     "output_type": "stream",
     "text": [
      "(318438, 18)\n",
      "(137057, 17)\n"
     ]
    }
   ],
   "source": [
    "train = pd.read_csv(\"train.csv\")\n",
    "train_dict = pd.read_csv(\"train_data_dict.csv\")\n",
    "test = pd.read_csv(\"test.csv\")#sample thingy i didnt take yet\n",
    "print(train.shape)\n",
    "print(test.shape)\n"
   ]
  },
  {
   "cell_type": "code",
   "execution_count": 3,
   "id": "9a744f16",
   "metadata": {},
   "outputs": [
    {
     "data": {
      "text/html": [
       "<div>\n",
       "<style scoped>\n",
       "    .dataframe tbody tr th:only-of-type {\n",
       "        vertical-align: middle;\n",
       "    }\n",
       "\n",
       "    .dataframe tbody tr th {\n",
       "        vertical-align: top;\n",
       "    }\n",
       "\n",
       "    .dataframe thead th {\n",
       "        text-align: right;\n",
       "    }\n",
       "</style>\n",
       "<table border=\"1\" class=\"dataframe\">\n",
       "  <thead>\n",
       "    <tr style=\"text-align: right;\">\n",
       "      <th></th>\n",
       "      <th>case_id</th>\n",
       "      <th>Hospital_code</th>\n",
       "      <th>Hospital_type_code</th>\n",
       "      <th>City_Code_Hospital</th>\n",
       "      <th>Hospital_region_code</th>\n",
       "      <th>Available Extra Rooms in Hospital</th>\n",
       "      <th>Department</th>\n",
       "      <th>Ward_Type</th>\n",
       "      <th>Ward_Facility_Code</th>\n",
       "      <th>Bed Grade</th>\n",
       "      <th>patientid</th>\n",
       "      <th>City_Code_Patient</th>\n",
       "      <th>Type of Admission</th>\n",
       "      <th>Severity of Illness</th>\n",
       "      <th>Visitors with Patient</th>\n",
       "      <th>Age</th>\n",
       "      <th>Admission_Deposit</th>\n",
       "      <th>Stay</th>\n",
       "    </tr>\n",
       "  </thead>\n",
       "  <tbody>\n",
       "    <tr>\n",
       "      <th>0</th>\n",
       "      <td>1</td>\n",
       "      <td>8</td>\n",
       "      <td>c</td>\n",
       "      <td>3</td>\n",
       "      <td>Z</td>\n",
       "      <td>3</td>\n",
       "      <td>radiotherapy</td>\n",
       "      <td>R</td>\n",
       "      <td>F</td>\n",
       "      <td>2.0</td>\n",
       "      <td>31397</td>\n",
       "      <td>7.0</td>\n",
       "      <td>Emergency</td>\n",
       "      <td>Extreme</td>\n",
       "      <td>2</td>\n",
       "      <td>51-60</td>\n",
       "      <td>4911.0</td>\n",
       "      <td>0-10</td>\n",
       "    </tr>\n",
       "    <tr>\n",
       "      <th>1</th>\n",
       "      <td>2</td>\n",
       "      <td>2</td>\n",
       "      <td>c</td>\n",
       "      <td>5</td>\n",
       "      <td>Z</td>\n",
       "      <td>2</td>\n",
       "      <td>radiotherapy</td>\n",
       "      <td>S</td>\n",
       "      <td>F</td>\n",
       "      <td>2.0</td>\n",
       "      <td>31397</td>\n",
       "      <td>7.0</td>\n",
       "      <td>Trauma</td>\n",
       "      <td>Extreme</td>\n",
       "      <td>2</td>\n",
       "      <td>51-60</td>\n",
       "      <td>5954.0</td>\n",
       "      <td>41-50</td>\n",
       "    </tr>\n",
       "    <tr>\n",
       "      <th>2</th>\n",
       "      <td>3</td>\n",
       "      <td>10</td>\n",
       "      <td>e</td>\n",
       "      <td>1</td>\n",
       "      <td>X</td>\n",
       "      <td>2</td>\n",
       "      <td>anesthesia</td>\n",
       "      <td>S</td>\n",
       "      <td>E</td>\n",
       "      <td>2.0</td>\n",
       "      <td>31397</td>\n",
       "      <td>7.0</td>\n",
       "      <td>Trauma</td>\n",
       "      <td>Extreme</td>\n",
       "      <td>2</td>\n",
       "      <td>51-60</td>\n",
       "      <td>4745.0</td>\n",
       "      <td>31-40</td>\n",
       "    </tr>\n",
       "    <tr>\n",
       "      <th>3</th>\n",
       "      <td>4</td>\n",
       "      <td>26</td>\n",
       "      <td>b</td>\n",
       "      <td>2</td>\n",
       "      <td>Y</td>\n",
       "      <td>2</td>\n",
       "      <td>radiotherapy</td>\n",
       "      <td>R</td>\n",
       "      <td>D</td>\n",
       "      <td>2.0</td>\n",
       "      <td>31397</td>\n",
       "      <td>7.0</td>\n",
       "      <td>Trauma</td>\n",
       "      <td>Extreme</td>\n",
       "      <td>2</td>\n",
       "      <td>51-60</td>\n",
       "      <td>7272.0</td>\n",
       "      <td>41-50</td>\n",
       "    </tr>\n",
       "    <tr>\n",
       "      <th>4</th>\n",
       "      <td>5</td>\n",
       "      <td>26</td>\n",
       "      <td>b</td>\n",
       "      <td>2</td>\n",
       "      <td>Y</td>\n",
       "      <td>2</td>\n",
       "      <td>radiotherapy</td>\n",
       "      <td>S</td>\n",
       "      <td>D</td>\n",
       "      <td>2.0</td>\n",
       "      <td>31397</td>\n",
       "      <td>7.0</td>\n",
       "      <td>Trauma</td>\n",
       "      <td>Extreme</td>\n",
       "      <td>2</td>\n",
       "      <td>51-60</td>\n",
       "      <td>5558.0</td>\n",
       "      <td>41-50</td>\n",
       "    </tr>\n",
       "  </tbody>\n",
       "</table>\n",
       "</div>"
      ],
      "text/plain": [
       "   case_id  Hospital_code Hospital_type_code  City_Code_Hospital  \\\n",
       "0        1              8                  c                   3   \n",
       "1        2              2                  c                   5   \n",
       "2        3             10                  e                   1   \n",
       "3        4             26                  b                   2   \n",
       "4        5             26                  b                   2   \n",
       "\n",
       "  Hospital_region_code  Available Extra Rooms in Hospital    Department  \\\n",
       "0                    Z                                  3  radiotherapy   \n",
       "1                    Z                                  2  radiotherapy   \n",
       "2                    X                                  2    anesthesia   \n",
       "3                    Y                                  2  radiotherapy   \n",
       "4                    Y                                  2  radiotherapy   \n",
       "\n",
       "  Ward_Type Ward_Facility_Code  Bed Grade  patientid  City_Code_Patient  \\\n",
       "0         R                  F        2.0      31397                7.0   \n",
       "1         S                  F        2.0      31397                7.0   \n",
       "2         S                  E        2.0      31397                7.0   \n",
       "3         R                  D        2.0      31397                7.0   \n",
       "4         S                  D        2.0      31397                7.0   \n",
       "\n",
       "  Type of Admission Severity of Illness  Visitors with Patient    Age  \\\n",
       "0         Emergency             Extreme                      2  51-60   \n",
       "1            Trauma             Extreme                      2  51-60   \n",
       "2            Trauma             Extreme                      2  51-60   \n",
       "3            Trauma             Extreme                      2  51-60   \n",
       "4            Trauma             Extreme                      2  51-60   \n",
       "\n",
       "   Admission_Deposit   Stay  \n",
       "0             4911.0   0-10  \n",
       "1             5954.0  41-50  \n",
       "2             4745.0  31-40  \n",
       "3             7272.0  41-50  \n",
       "4             5558.0  41-50  "
      ]
     },
     "execution_count": 3,
     "metadata": {},
     "output_type": "execute_result"
    }
   ],
   "source": [
    "train.head()"
   ]
  },
  {
   "cell_type": "code",
   "execution_count": 4,
   "id": "60db6ea9",
   "metadata": {},
   "outputs": [
    {
     "data": {
      "text/plain": [
       "case_id                                 0\n",
       "Hospital_code                           0\n",
       "Hospital_type_code                      0\n",
       "City_Code_Hospital                      0\n",
       "Hospital_region_code                    0\n",
       "Available Extra Rooms in Hospital       0\n",
       "Department                              0\n",
       "Ward_Type                               0\n",
       "Ward_Facility_Code                      0\n",
       "Bed Grade                             113\n",
       "patientid                               0\n",
       "City_Code_Patient                    4532\n",
       "Type of Admission                       0\n",
       "Severity of Illness                     0\n",
       "Visitors with Patient                   0\n",
       "Age                                     0\n",
       "Admission_Deposit                       0\n",
       "Stay                                    0\n",
       "dtype: int64"
      ]
     },
     "execution_count": 4,
     "metadata": {},
     "output_type": "execute_result"
    }
   ],
   "source": [
    "train.isnull().sum()\n"
   ]
  },
  {
   "cell_type": "code",
   "execution_count": 5,
   "id": "4bb1a3f0",
   "metadata": {},
   "outputs": [
    {
     "data": {
      "text/plain": [
       "case_id                                 0\n",
       "Hospital_code                           0\n",
       "Hospital_type_code                      0\n",
       "City_Code_Hospital                      0\n",
       "Hospital_region_code                    0\n",
       "Available Extra Rooms in Hospital       0\n",
       "Department                              0\n",
       "Ward_Type                               0\n",
       "Ward_Facility_Code                      0\n",
       "Bed Grade                              35\n",
       "patientid                               0\n",
       "City_Code_Patient                    2157\n",
       "Type of Admission                       0\n",
       "Severity of Illness                     0\n",
       "Visitors with Patient                   0\n",
       "Age                                     0\n",
       "Admission_Deposit                       0\n",
       "dtype: int64"
      ]
     },
     "execution_count": 5,
     "metadata": {},
     "output_type": "execute_result"
    }
   ],
   "source": [
    "test.isnull().sum()"
   ]
  },
  {
   "cell_type": "code",
   "execution_count": 6,
   "id": "650a07aa",
   "metadata": {},
   "outputs": [
    {
     "data": {
      "text/plain": [
       "array(['0-10', '41-50', '31-40', '11-20', '51-60', '21-30', '71-80',\n",
       "       'More than 100 Days', '81-90', '61-70', '91-100'], dtype=object)"
      ]
     },
     "execution_count": 6,
     "metadata": {},
     "output_type": "execute_result"
    }
   ],
   "source": [
    "train[\"Stay\"].unique()"
   ]
  },
  {
   "cell_type": "code",
   "execution_count": 7,
   "id": "1080390a",
   "metadata": {},
   "outputs": [],
   "source": [
    "label = LabelEncoder()\n",
    "train[\"Stay\"]= label.fit_transform(train[\"Stay\"])"
   ]
  },
  {
   "cell_type": "code",
   "execution_count": 8,
   "id": "afab2a0d",
   "metadata": {},
   "outputs": [
    {
     "data": {
      "text/plain": [
       "2     87491\n",
       "1     78139\n",
       "3     55159\n",
       "5     35018\n",
       "0     23604\n",
       "4     11743\n",
       "7     10254\n",
       "10     6683\n",
       "8      4838\n",
       "9      2765\n",
       "6      2744\n",
       "Name: Stay, dtype: int64"
      ]
     },
     "execution_count": 8,
     "metadata": {},
     "output_type": "execute_result"
    }
   ],
   "source": [
    "train[\"Stay\"].value_counts()"
   ]
  },
  {
   "cell_type": "code",
   "execution_count": 9,
   "id": "1674db71",
   "metadata": {},
   "outputs": [
    {
     "name": "stdout",
     "output_type": "stream",
     "text": [
      "(137057, 19) (318438, 19)\n",
      "(455495, 19)\n"
     ]
    }
   ],
   "source": [
    "train[\"Flag\"] = 0\n",
    "test[\"Flag\"] = 1    #tbasked\n",
    "test[\"Stay\"] = None\n",
    "print(test.shape,train.shape)\n",
    "df = pd.concat((train,test))\n",
    "print(df.shape)"
   ]
  },
  {
   "cell_type": "code",
   "execution_count": 10,
   "id": "ff60bdf7",
   "metadata": {},
   "outputs": [
    {
     "name": "stdout",
     "output_type": "stream",
     "text": [
      "Category: case_id \tUniques: 455495\n",
      "Category: Hospital_code \tUniques: 32\n",
      "Category: Hospital_type_code \tUniques: 7\n",
      "Category: City_Code_Hospital \tUniques: 11\n",
      "Category: Hospital_region_code \tUniques: 3\n",
      "Category: Available Extra Rooms in Hospital \tUniques: 18\n",
      "Category: Department \tUniques: 5\n",
      "Category: Ward_Type \tUniques: 6\n",
      "Category: Ward_Facility_Code \tUniques: 6\n",
      "Category: Bed Grade \tUniques: 4\n",
      "Category: patientid \tUniques: 131624\n",
      "Category: City_Code_Patient \tUniques: 37\n",
      "Category: Type of Admission \tUniques: 3\n",
      "Category: Severity of Illness \tUniques: 3\n",
      "Category: Visitors with Patient \tUniques: 29\n",
      "Category: Age \tUniques: 10\n",
      "Category: Admission_Deposit \tUniques: 7634\n",
      "Category: Stay \tUniques: 11\n",
      "Category: Flag \tUniques: 2\n"
     ]
    }
   ],
   "source": [
    "cols= df.columns\n",
    "for col in cols :\n",
    "    print(\"Category:\", col, \"\\tUniques:\", df[col].nunique())"
   ]
  },
  {
   "cell_type": "code",
   "execution_count": 11,
   "id": "f33e3540",
   "metadata": {},
   "outputs": [
    {
     "data": {
      "text/plain": [
       "case_id                                int64\n",
       "Hospital_code                          int64\n",
       "Hospital_type_code                    object\n",
       "City_Code_Hospital                     int64\n",
       "Hospital_region_code                  object\n",
       "Available Extra Rooms in Hospital      int64\n",
       "Department                            object\n",
       "Ward_Type                             object\n",
       "Ward_Facility_Code                    object\n",
       "Bed Grade                            float64\n",
       "patientid                              int64\n",
       "City_Code_Patient                    float64\n",
       "Type of Admission                     object\n",
       "Severity of Illness                   object\n",
       "Visitors with Patient                  int64\n",
       "Age                                   object\n",
       "Admission_Deposit                    float64\n",
       "Stay                                   int32\n",
       "Flag                                   int64\n",
       "dtype: object"
      ]
     },
     "execution_count": 11,
     "metadata": {},
     "output_type": "execute_result"
    }
   ],
   "source": [
    "df.drop(['case_id','patientid'], axis = 1, inplace = True)\n",
    "train.dtypes"
   ]
  },
  {
   "cell_type": "code",
   "execution_count": 12,
   "id": "2a2a70f7",
   "metadata": {},
   "outputs": [
    {
     "data": {
      "text/plain": [
       "<AxesSubplot:ylabel='Frequency'>"
      ]
     },
     "execution_count": 12,
     "metadata": {},
     "output_type": "execute_result"
    },
    {
     "data": {
      "image/png": "[encoded data removed]",
      "text/plain": [
       "<Figure size 432x288 with 1 Axes>"
      ]
     },
     "metadata": {},
     "output_type": "display_data"
    }
   ],
   "source": [
    "df['Bed Grade'].plot(kind='hist')"
   ]
  },
  {
   "cell_type": "code",
   "execution_count": 13,
   "id": "9e5b0867",
   "metadata": {},
   "outputs": [
    {
     "data": {
      "text/plain": [
       "2.6284196447983628"
      ]
     },
     "execution_count": 13,
     "metadata": {},
     "output_type": "execute_result"
    }
   ],
   "source": [
    "df['Bed Grade'].mean()"
   ]
  },
  {
   "cell_type": "code",
   "execution_count": 14,
   "id": "d3d8905a",
   "metadata": {},
   "outputs": [
    {
     "data": {
      "text/plain": [
       "3.0"
      ]
     },
     "execution_count": 14,
     "metadata": {},
     "output_type": "execute_result"
    }
   ],
   "source": [
    "df['Bed Grade'].median()\n"
   ]
  },
  {
   "cell_type": "code",
   "execution_count": 15,
   "id": "5c590a2f",
   "metadata": {},
   "outputs": [
    {
     "data": {
      "text/plain": [
       "<AxesSubplot:ylabel='Frequency'>"
      ]
     },
     "execution_count": 15,
     "metadata": {},
     "output_type": "execute_result"
    },
    {
     "data": {
      "image/png": "[encoded data removed]",
      "text/plain": [
       "<Figure size 432x288 with 1 Axes>"
      ]
     },
     "metadata": {},
     "output_type": "display_data"
    }
   ],
   "source": [
    "df['City_Code_Patient'].plot(kind='hist')"
   ]
  },
  {
   "cell_type": "code",
   "execution_count": 16,
   "id": "b2d7fcd4",
   "metadata": {},
   "outputs": [
    {
     "data": {
      "text/plain": [
       "7.249495327602572"
      ]
     },
     "execution_count": 16,
     "metadata": {},
     "output_type": "execute_result"
    }
   ],
   "source": [
    "df['City_Code_Patient'].mean()"
   ]
  },
  {
   "cell_type": "code",
   "execution_count": 17,
   "id": "2fd76501",
   "metadata": {},
   "outputs": [
    {
     "data": {
      "text/plain": [
       "8.0"
      ]
     },
     "execution_count": 17,
     "metadata": {},
     "output_type": "execute_result"
    }
   ],
   "source": [
    "df['City_Code_Patient'].median()\n"
   ]
  },
  {
   "cell_type": "code",
   "execution_count": 18,
   "id": "3f7e98ea",
   "metadata": {},
   "outputs": [],
   "source": [
    "df['Bed Grade'] = np.where(df['Bed Grade'].isna(), 3, df['Bed Grade'])\n",
    "df['City_Code_Patient']= np.where(df['City_Code_Patient'].isna(),8, df['City_Code_Patient'])\n"
   ]
  },
  {
   "cell_type": "code",
   "execution_count": 19,
   "id": "7b770a8b",
   "metadata": {},
   "outputs": [
    {
     "data": {
      "text/plain": [
       "Hospital_code                         int64\n",
       "Hospital_type_code                   object\n",
       "City_Code_Hospital                    int64\n",
       "Hospital_region_code                 object\n",
       "Available Extra Rooms in Hospital     int64\n",
       "Department                           object\n",
       "Ward_Type                            object\n",
       "Ward_Facility_Code                   object\n",
       "Bed Grade                             int32\n",
       "City_Code_Patient                     int32\n",
       "Type of Admission                    object\n",
       "Severity of Illness                  object\n",
       "Visitors with Patient                 int64\n",
       "Age                                  object\n",
       "Admission_Deposit                     int32\n",
       "Stay                                 object\n",
       "Flag                                  int64\n",
       "dtype: object"
      ]
     },
     "execution_count": 19,
     "metadata": {},
     "output_type": "execute_result"
    }
   ],
   "source": [
    "df['Bed Grade'] = df['Bed Grade'].astype(int)\n",
    "df['City_Code_Patient'] = df['City_Code_Patient'].astype(int)\n",
    "df['Admission_Deposit']= df['Admission_Deposit'].astype(int)\n",
    "df.dtypes"
   ]
  },
  {
   "cell_type": "code",
   "execution_count": 20,
   "id": "75774960",
   "metadata": {},
   "outputs": [
    {
     "data": {
      "text/plain": [
       "(455495, 17)"
      ]
     },
     "execution_count": 20,
     "metadata": {},
     "output_type": "execute_result"
    }
   ],
   "source": [
    "df.shape\n"
   ]
  },
  {
   "cell_type": "code",
   "execution_count": 21,
   "id": "4af22c08",
   "metadata": {},
   "outputs": [
    {
     "data": {
      "text/plain": [
       "Index(['Hospital_type_code', 'Hospital_region_code', 'Department', 'Ward_Type',\n",
       "       'Ward_Facility_Code', 'Type of Admission', 'Severity of Illness', 'Age',\n",
       "       'Stay'],\n",
       "      dtype='object')"
      ]
     },
     "execution_count": 21,
     "metadata": {},
     "output_type": "execute_result"
    }
   ],
   "source": [
    "colm = df.select_dtypes(['object']).columns \n",
    "colm\n"
   ]
  },
  {
   "cell_type": "code",
   "execution_count": 22,
   "id": "775f40d3",
   "metadata": {},
   "outputs": [
    {
     "data": {
      "text/plain": [
       "Index(['Hospital_type_code', 'Hospital_region_code', 'Department', 'Ward_Type',\n",
       "       'Ward_Facility_Code', 'Type of Admission', 'Severity of Illness',\n",
       "       'Age'],\n",
       "      dtype='object')"
      ]
     },
     "execution_count": 22,
     "metadata": {},
     "output_type": "execute_result"
    }
   ],
   "source": [
    "colm = colm[:-1]\n",
    "colm\n",
    "\n"
   ]
  },
  {
   "cell_type": "code",
   "execution_count": 23,
   "id": "00bce4b9",
   "metadata": {},
   "outputs": [
    {
     "data": {
      "text/plain": [
       "(455495, 52)"
      ]
     },
     "execution_count": 23,
     "metadata": {},
     "output_type": "execute_result"
    }
   ],
   "source": [
    "df = pd.get_dummies(data = df,columns= colm)\n",
    "df.shape"
   ]
  },
  {
   "cell_type": "code",
   "execution_count": 24,
   "id": "89f80b35",
   "metadata": {},
   "outputs": [
    {
     "data": {
      "text/plain": [
       "Hospital_code                         int64\n",
       "City_Code_Hospital                    int64\n",
       "Available Extra Rooms in Hospital     int64\n",
       "Bed Grade                             int32\n",
       "City_Code_Patient                     int32\n",
       "Visitors with Patient                 int64\n",
       "Admission_Deposit                     int32\n",
       "Stay                                 object\n",
       "Flag                                  int64\n",
       "Hospital_type_code_a                  uint8\n",
       "Hospital_type_code_b                  uint8\n",
       "Hospital_type_code_c                  uint8\n",
       "Hospital_type_code_d                  uint8\n",
       "Hospital_type_code_e                  uint8\n",
       "Hospital_type_code_f                  uint8\n",
       "Hospital_type_code_g                  uint8\n",
       "Hospital_region_code_X                uint8\n",
       "Hospital_region_code_Y                uint8\n",
       "Hospital_region_code_Z                uint8\n",
       "Department_TB & Chest disease         uint8\n",
       "Department_anesthesia                 uint8\n",
       "Department_gynecology                 uint8\n",
       "Department_radiotherapy               uint8\n",
       "Department_surgery                    uint8\n",
       "Ward_Type_P                           uint8\n",
       "Ward_Type_Q                           uint8\n",
       "Ward_Type_R                           uint8\n",
       "Ward_Type_S                           uint8\n",
       "Ward_Type_T                           uint8\n",
       "Ward_Type_U                           uint8\n",
       "Ward_Facility_Code_A                  uint8\n",
       "Ward_Facility_Code_B                  uint8\n",
       "Ward_Facility_Code_C                  uint8\n",
       "Ward_Facility_Code_D                  uint8\n",
       "Ward_Facility_Code_E                  uint8\n",
       "Ward_Facility_Code_F                  uint8\n",
       "Type of Admission_Emergency           uint8\n",
       "Type of Admission_Trauma              uint8\n",
       "Type of Admission_Urgent              uint8\n",
       "Severity of Illness_Extreme           uint8\n",
       "Severity of Illness_Minor             uint8\n",
       "Severity of Illness_Moderate          uint8\n",
       "Age_0-10                              uint8\n",
       "Age_11-20                             uint8\n",
       "Age_21-30                             uint8\n",
       "Age_31-40                             uint8\n",
       "Age_41-50                             uint8\n",
       "Age_51-60                             uint8\n",
       "Age_61-70                             uint8\n",
       "Age_71-80                             uint8\n",
       "Age_81-90                             uint8\n",
       "Age_91-100                            uint8\n",
       "dtype: object"
      ]
     },
     "execution_count": 24,
     "metadata": {},
     "output_type": "execute_result"
    }
   ],
   "source": [
    "df.dtypes"
   ]
  },
  {
   "cell_type": "code",
   "execution_count": 25,
   "id": "84e8da44",
   "metadata": {},
   "outputs": [
    {
     "data": {
      "text/plain": [
       "Hospital_code                         int64\n",
       "City_Code_Hospital                    int64\n",
       "Available Extra Rooms in Hospital     int64\n",
       "Bed Grade                             int32\n",
       "City_Code_Patient                     int32\n",
       "Visitors with Patient                 int64\n",
       "Admission_Deposit                     int32\n",
       "Stay                                 object\n",
       "Flag                                  int64\n",
       "Hospital_type_code_a                  uint8\n",
       "Hospital_type_code_b                  uint8\n",
       "Hospital_type_code_c                  uint8\n",
       "Hospital_type_code_d                  uint8\n",
       "Hospital_type_code_e                  uint8\n",
       "Hospital_type_code_f                  uint8\n",
       "Hospital_type_code_g                  uint8\n",
       "Hospital_region_code_X                uint8\n",
       "Hospital_region_code_Y                uint8\n",
       "Hospital_region_code_Z                uint8\n",
       "Department_TB & Chest disease         uint8\n",
       "Department_anesthesia                 uint8\n",
       "Department_gynecology                 uint8\n",
       "Department_radiotherapy               uint8\n",
       "Department_surgery                    uint8\n",
       "Ward_Type_P                           uint8\n",
       "Ward_Type_Q                           uint8\n",
       "Ward_Type_R                           uint8\n",
       "Ward_Type_S                           uint8\n",
       "Ward_Type_T                           uint8\n",
       "Ward_Type_U                           uint8\n",
       "Ward_Facility_Code_A                  uint8\n",
       "Ward_Facility_Code_B                  uint8\n",
       "Ward_Facility_Code_C                  uint8\n",
       "Ward_Facility_Code_D                  uint8\n",
       "Ward_Facility_Code_E                  uint8\n",
       "Ward_Facility_Code_F                  uint8\n",
       "Type of Admission_Emergency           uint8\n",
       "Type of Admission_Trauma              uint8\n",
       "Type of Admission_Urgent              uint8\n",
       "Severity of Illness_Extreme           uint8\n",
       "Severity of Illness_Minor             uint8\n",
       "Severity of Illness_Moderate          uint8\n",
       "Age_0-10                              uint8\n",
       "Age_11-20                             uint8\n",
       "Age_21-30                             uint8\n",
       "Age_31-40                             uint8\n",
       "Age_41-50                             uint8\n",
       "Age_51-60                             uint8\n",
       "Age_61-70                             uint8\n",
       "Age_71-80                             uint8\n",
       "Age_81-90                             uint8\n",
       "Age_91-100                            uint8\n",
       "dtype: object"
      ]
     },
     "execution_count": 25,
     "metadata": {},
     "output_type": "execute_result"
    }
   ],
   "source": [
    "train, test = df[df.Flag == 0],df[df.Flag == 1]\n",
    "test.dtypes"
   ]
  },
  {
   "cell_type": "code",
   "execution_count": 26,
   "id": "6574977d",
   "metadata": {},
   "outputs": [],
   "source": [
    "train.drop(['Flag'], inplace = True, axis = 1)\n",
    "test.drop(['Flag'], inplace = True, axis = 1)\n",
    "test.drop(['Stay'], inplace = True, axis = 1)\n",
    "train['Stay'] = train['Stay'].astype(int)"
   ]
  },
  {
   "cell_type": "code",
   "execution_count": 27,
   "id": "c0da7ce8",
   "metadata": {},
   "outputs": [],
   "source": [
    "train, eval = train_test_split(train,test_size= 0.30, random_state = 42, shuffle = True, stratify= train['Stay']) #tbasked"
   ]
  },
  {
   "cell_type": "code",
   "execution_count": 28,
   "id": "e4f5a25e",
   "metadata": {},
   "outputs": [
    {
     "name": "stdout",
     "output_type": "stream",
     "text": [
      "['Hospital_code', 'City_Code_Hospital', 'Available Extra Rooms in Hospital', 'Bed Grade', 'City_Code_Patient', 'Visitors with Patient', 'Admission_Deposit', 'Hospital_type_code_a', 'Hospital_type_code_b', 'Hospital_type_code_c', 'Hospital_type_code_d', 'Hospital_type_code_e', 'Hospital_type_code_f', 'Hospital_type_code_g', 'Hospital_region_code_X', 'Hospital_region_code_Y', 'Hospital_region_code_Z', 'Department_TB & Chest disease', 'Department_anesthesia', 'Department_gynecology', 'Department_radiotherapy', 'Department_surgery', 'Ward_Type_P', 'Ward_Type_Q', 'Ward_Type_R', 'Ward_Type_S', 'Ward_Type_T', 'Ward_Type_U', 'Ward_Facility_Code_A', 'Ward_Facility_Code_B', 'Ward_Facility_Code_C', 'Ward_Facility_Code_D', 'Ward_Facility_Code_E', 'Ward_Facility_Code_F', 'Type of Admission_Emergency', 'Type of Admission_Trauma', 'Type of Admission_Urgent', 'Severity of Illness_Extreme', 'Severity of Illness_Minor', 'Severity of Illness_Moderate', 'Age_0-10', 'Age_11-20', 'Age_21-30', 'Age_31-40', 'Age_41-50', 'Age_51-60', 'Age_61-70', 'Age_71-80', 'Age_81-90', 'Age_91-100']\n"
     ]
    }
   ],
   "source": [
    "feature_cols = train.columns.tolist()\n",
    "feature_cols.remove('Stay')\n",
    "label_col = 'Stay'\n",
    "print(feature_cols)"
   ]
  },
  {
   "cell_type": "code",
   "execution_count": 29,
   "id": "1ec6b8a8",
   "metadata": {},
   "outputs": [
    {
     "data": {
      "text/plain": [
       "['Hospital_code',\n",
       " 'City_Code_Hospital',\n",
       " 'Available Extra Rooms in Hospital',\n",
       " 'Bed Grade',\n",
       " 'City_Code_Patient',\n",
       " 'Visitors with Patient',\n",
       " 'Hospital_type_code_a',\n",
       " 'Hospital_type_code_b',\n",
       " 'Hospital_type_code_c',\n",
       " 'Hospital_type_code_d',\n",
       " 'Hospital_type_code_e',\n",
       " 'Hospital_type_code_f',\n",
       " 'Hospital_type_code_g',\n",
       " 'Hospital_region_code_X',\n",
       " 'Hospital_region_code_Y',\n",
       " 'Hospital_region_code_Z',\n",
       " 'Department_TB & Chest disease',\n",
       " 'Department_anesthesia',\n",
       " 'Department_gynecology',\n",
       " 'Department_radiotherapy',\n",
       " 'Department_surgery',\n",
       " 'Ward_Type_P',\n",
       " 'Ward_Type_Q',\n",
       " 'Ward_Type_R',\n",
       " 'Ward_Type_S',\n",
       " 'Ward_Type_T',\n",
       " 'Ward_Type_U',\n",
       " 'Ward_Facility_Code_A',\n",
       " 'Ward_Facility_Code_B',\n",
       " 'Ward_Facility_Code_C',\n",
       " 'Ward_Facility_Code_D',\n",
       " 'Ward_Facility_Code_E',\n",
       " 'Ward_Facility_Code_F',\n",
       " 'Type of Admission_Emergency',\n",
       " 'Type of Admission_Trauma',\n",
       " 'Type of Admission_Urgent',\n",
       " 'Severity of Illness_Extreme',\n",
       " 'Severity of Illness_Minor',\n",
       " 'Severity of Illness_Moderate',\n",
       " 'Age_0-10',\n",
       " 'Age_11-20',\n",
       " 'Age_21-30',\n",
       " 'Age_31-40',\n",
       " 'Age_41-50',\n",
       " 'Age_51-60',\n",
       " 'Age_61-70',\n",
       " 'Age_71-80',\n",
       " 'Age_81-90',\n",
       " 'Age_91-100']"
      ]
     },
     "execution_count": 29,
     "metadata": {},
     "output_type": "execute_result"
    }
   ],
   "source": [
    "cat_cols = feature_cols\n",
    "cat_cols.remove('Admission_Deposit')\n",
    "cat_cols"
   ]
  },
  {
   "cell_type": "code",
   "execution_count": 30,
   "id": "05e13a39",
   "metadata": {},
   "outputs": [],
   "source": [
    "lgb_clf = LGBMClassifier(random_state=17)"
   ]
  },
  {
   "cell_type": "code",
   "execution_count": 31,
   "id": "261e0a6d",
   "metadata": {},
   "outputs": [
    {
     "data": {
      "text/plain": [
       "LGBMClassifier(random_state=17)"
      ]
     },
     "execution_count": 31,
     "metadata": {},
     "output_type": "execute_result"
    }
   ],
   "source": [
    "lgb_clf.fit(train[feature_cols],train[label_col])\n"
   ]
  },
  {
   "cell_type": "code",
   "execution_count": 32,
   "id": "aa6d10b9",
   "metadata": {},
   "outputs": [
    {
     "name": "stdout",
     "output_type": "stream",
     "text": [
      "Eval ACC: 0.4198174433697609\n"
     ]
    }
   ],
   "source": [
    "eval_score = accuracy_score(eval[label_col], lgb_clf.predict(eval[feature_cols]))\n",
    "\n",
    "print('Eval ACC: {}'.format(eval_score))"
   ]
  },
  {
   "cell_type": "code",
   "execution_count": 33,
   "id": "b201ecd9",
   "metadata": {},
   "outputs": [],
   "source": [
    "param_grid = {'num_leaves' : [7,16, 50], 'max_depth' : [3, 6, 8,-1]}"
   ]
  },
  {
   "cell_type": "code",
   "execution_count": 34,
   "id": "019ea61f",
   "metadata": {},
   "outputs": [],
   "source": [
    "grid_searcher = GridSearchCV(estimator=lgb_clf, param_grid=param_grid, \n",
    "                             cv=5, verbose=1, n_jobs=4)"
   ]
  },
  {
   "cell_type": "code",
   "execution_count": 35,
   "id": "54e8bda2",
   "metadata": {},
   "outputs": [
    {
     "name": "stdout",
     "output_type": "stream",
     "text": [
      "Fitting 5 folds for each of 12 candidates, totalling 60 fits\n"
     ]
    },
    {
     "data": {
      "text/plain": [
       "GridSearchCV(cv=5, estimator=LGBMClassifier(random_state=17), n_jobs=4,\n",
       "             param_grid={'max_depth': [3, 6, 8, -1], 'num_leaves': [7, 16, 50]},\n",
       "             verbose=1)"
      ]
     },
     "execution_count": 35,
     "metadata": {},
     "output_type": "execute_result"
    }
   ],
   "source": [
    "grid_searcher.fit(train[feature_cols], train[label_col]) #tbasked"
   ]
  },
  {
   "cell_type": "code",
   "execution_count": 36,
   "id": "14f11790",
   "metadata": {},
   "outputs": [
    {
     "data": {
      "text/plain": [
       "({'max_depth': 8, 'num_leaves': 50}, 0.41888059346567097)"
      ]
     },
     "execution_count": 36,
     "metadata": {},
     "output_type": "execute_result"
    }
   ],
   "source": [
    "grid_searcher.best_params_, grid_searcher.best_score_"
   ]
  },
  {
   "cell_type": "code",
   "execution_count": 37,
   "id": "d8fff30b",
   "metadata": {},
   "outputs": [
    {
     "data": {
      "text/plain": [
       "0.41989071724657706"
      ]
     },
     "execution_count": 37,
     "metadata": {},
     "output_type": "execute_result"
    }
   ],
   "source": [
    "accuracy_score(eval[label_col], grid_searcher.predict(eval[feature_cols]))"
   ]
  },
  {
   "cell_type": "code",
   "execution_count": 38,
   "id": "8806f484",
   "metadata": {},
   "outputs": [
    {
     "name": "stdout",
     "output_type": "stream",
     "text": [
      "Fitting 5 folds for each of 10 candidates, totalling 50 fits\n",
      "{'learning_rate': 0.046415888336127774} 0.41947277298472274\n"
     ]
    }
   ],
   "source": [
    "num_iterations = 200\n",
    "lgb_clf2 = LGBMClassifier(random_state = 17, max_depth = 8, num_leaves = 50, n_estimators = num_iterations, n_jobs = 2)\n",
    "param_grid2 = {'learning_rate' : np.logspace(-3,0,10)}\n",
    "grid_searcher2 = GridSearchCV(estimator=lgb_clf2, param_grid=param_grid2, cv=5, verbose=1, n_jobs= 4)\n",
    "grid_searcher2.fit(train[feature_cols], train[label_col])\n",
    "print(grid_searcher2.best_params_, grid_searcher2.best_score_)\n",
    "\n"
   ]
  },
  {
   "cell_type": "code",
   "execution_count": 62,
   "id": "22951ec2",
   "metadata": {},
   "outputs": [],
   "source": [
    "params = {}\n",
    "params['learning_rate'] = 0.046\n",
    "params['max_depth'] = 8\n",
    "params['num_leaves'] = 50\n",
    "params['objective'] = 'multiclass'\n",
    "params['boosting_type'] = 'gbdt'\n",
    "params['subsample'] = 0.7\n",
    "params['random_state'] = 42\n",
    "params['n_estimators'] = 500\n",
    "params['n_jobs'] = 4\n",
    "\n"
   ]
  },
  {
   "cell_type": "code",
   "execution_count": 63,
   "id": "3b3707d8",
   "metadata": {},
   "outputs": [
    {
     "name": "stdout",
     "output_type": "stream",
     "text": [
      "[1]\tvalid_0's multi_error: 0.725247\tvalid_0's multi_logloss: 1.85483\tvalid_1's multi_error: 0.725254\tvalid_1's multi_logloss: 1.85629\n",
      "[2]\tvalid_0's multi_error: 0.711735\tvalid_0's multi_logloss: 1.82208\tvalid_1's multi_error: 0.711856\tvalid_1's multi_logloss: 1.82462\n",
      "[3]\tvalid_0's multi_error: 0.694557\tvalid_0's multi_logloss: 1.79462\tvalid_1's multi_error: 0.694867\tvalid_1's multi_logloss: 1.79803\n",
      "[4]\tvalid_0's multi_error: 0.66755\tvalid_0's multi_logloss: 1.77107\tvalid_1's multi_error: 0.669482\tvalid_1's multi_logloss: 1.77529\n",
      "[5]\tvalid_0's multi_error: 0.648852\tvalid_0's multi_logloss: 1.75021\tvalid_1's multi_error: 0.651059\tvalid_1's multi_logloss: 1.75521\n",
      "[6]\tvalid_0's multi_error: 0.631504\tvalid_0's multi_logloss: 1.73151\tvalid_1's multi_error: 0.632804\tvalid_1's multi_logloss: 1.73731\n",
      "[7]\tvalid_0's multi_error: 0.618637\tvalid_0's multi_logloss: 1.71478\tvalid_1's multi_error: 0.619667\tvalid_1's multi_logloss: 1.72136\n",
      "[8]\tvalid_0's multi_error: 0.606942\tvalid_0's multi_logloss: 1.69954\tvalid_1's multi_error: 0.60923\tvalid_1's multi_logloss: 1.7069\n",
      "[9]\tvalid_0's multi_error: 0.598041\tvalid_0's multi_logloss: 1.68569\tvalid_1's multi_error: 0.600971\tvalid_1's multi_logloss: 1.69373\n",
      "[10]\tvalid_0's multi_error: 0.59264\tvalid_0's multi_logloss: 1.67313\tvalid_1's multi_error: 0.596167\tvalid_1's multi_logloss: 1.68181\n",
      "[11]\tvalid_0's multi_error: 0.590419\tvalid_0's multi_logloss: 1.66154\tvalid_1's multi_error: 0.593089\tvalid_1's multi_logloss: 1.67084\n",
      "[12]\tvalid_0's multi_error: 0.588459\tvalid_0's multi_logloss: 1.65099\tvalid_1's multi_error: 0.591446\tvalid_1's multi_logloss: 1.66096\n",
      "[13]\tvalid_0's multi_error: 0.587091\tvalid_0's multi_logloss: 1.6413\tvalid_1's multi_error: 0.590284\tvalid_1's multi_logloss: 1.65188\n",
      "[14]\tvalid_0's multi_error: 0.58574\tvalid_0's multi_logloss: 1.6323\tvalid_1's multi_error: 0.588954\tvalid_1's multi_logloss: 1.64355\n",
      "[15]\tvalid_0's multi_error: 0.584583\tvalid_0's multi_logloss: 1.62397\tvalid_1's multi_error: 0.587625\tvalid_1's multi_logloss: 1.63584\n",
      "[16]\tvalid_0's multi_error: 0.584058\tvalid_0's multi_logloss: 1.61626\tvalid_1's multi_error: 0.587049\tvalid_1's multi_logloss: 1.6288\n",
      "[17]\tvalid_0's multi_error: 0.583322\tvalid_0's multi_logloss: 1.6091\tvalid_1's multi_error: 0.586861\tvalid_1's multi_logloss: 1.62224\n",
      "[18]\tvalid_0's multi_error: 0.582878\tvalid_0's multi_logloss: 1.60252\tvalid_1's multi_error: 0.586254\tvalid_1's multi_logloss: 1.61634\n",
      "[19]\tvalid_0's multi_error: 0.581958\tvalid_0's multi_logloss: 1.59625\tvalid_1's multi_error: 0.585762\tvalid_1's multi_logloss: 1.6107\n",
      "[20]\tvalid_0's multi_error: 0.581442\tvalid_0's multi_logloss: 1.59037\tvalid_1's multi_error: 0.585029\tvalid_1's multi_logloss: 1.60548\n",
      "[21]\tvalid_0's multi_error: 0.580971\tvalid_0's multi_logloss: 1.5849\tvalid_1's multi_error: 0.584569\tvalid_1's multi_logloss: 1.60061\n",
      "[22]\tvalid_0's multi_error: 0.580446\tvalid_0's multi_logloss: 1.57974\tvalid_1's multi_error: 0.584275\tvalid_1's multi_logloss: 1.59611\n",
      "[23]\tvalid_0's multi_error: 0.579827\tvalid_0's multi_logloss: 1.57491\tvalid_1's multi_error: 0.584537\tvalid_1's multi_logloss: 1.59193\n",
      "[24]\tvalid_0's multi_error: 0.579531\tvalid_0's multi_logloss: 1.57035\tvalid_1's multi_error: 0.584066\tvalid_1's multi_logloss: 1.58803\n",
      "[25]\tvalid_0's multi_error: 0.579128\tvalid_0's multi_logloss: 1.56611\tvalid_1's multi_error: 0.583909\tvalid_1's multi_logloss: 1.58445\n",
      "[26]\tvalid_0's multi_error: 0.578656\tvalid_0's multi_logloss: 1.56208\tvalid_1's multi_error: 0.583783\tvalid_1's multi_logloss: 1.58105\n",
      "[27]\tvalid_0's multi_error: 0.57832\tvalid_0's multi_logloss: 1.55827\tvalid_1's multi_error: 0.583752\tvalid_1's multi_logloss: 1.57789\n",
      "[28]\tvalid_0's multi_error: 0.57801\tvalid_0's multi_logloss: 1.5546\tvalid_1's multi_error: 0.583825\tvalid_1's multi_logloss: 1.57482\n",
      "[29]\tvalid_0's multi_error: 0.577687\tvalid_0's multi_logloss: 1.55127\tvalid_1's multi_error: 0.583459\tvalid_1's multi_logloss: 1.57208\n",
      "[30]\tvalid_0's multi_error: 0.577248\tvalid_0's multi_logloss: 1.54801\tvalid_1's multi_error: 0.583218\tvalid_1's multi_logloss: 1.56947\n",
      "[31]\tvalid_0's multi_error: 0.576979\tvalid_0's multi_logloss: 1.54487\tvalid_1's multi_error: 0.582674\tvalid_1's multi_logloss: 1.56694\n",
      "[32]\tvalid_0's multi_error: 0.576745\tvalid_0's multi_logloss: 1.542\tvalid_1's multi_error: 0.582454\tvalid_1's multi_logloss: 1.56468\n",
      "[33]\tvalid_0's multi_error: 0.57622\tvalid_0's multi_logloss: 1.53924\tvalid_1's multi_error: 0.582412\tvalid_1's multi_logloss: 1.56254\n",
      "[34]\tvalid_0's multi_error: 0.57583\tvalid_0's multi_logloss: 1.53658\tvalid_1's multi_error: 0.582642\tvalid_1's multi_logloss: 1.56045\n",
      "[35]\tvalid_0's multi_error: 0.575346\tvalid_0's multi_logloss: 1.53394\tvalid_1's multi_error: 0.582213\tvalid_1's multi_logloss: 1.55842\n",
      "[36]\tvalid_0's multi_error: 0.575027\tvalid_0's multi_logloss: 1.53152\tvalid_1's multi_error: 0.582234\tvalid_1's multi_logloss: 1.55663\n",
      "[37]\tvalid_0's multi_error: 0.574444\tvalid_0's multi_logloss: 1.5292\tvalid_1's multi_error: 0.582339\tvalid_1's multi_logloss: 1.55488\n",
      "[38]\tvalid_0's multi_error: 0.574273\tvalid_0's multi_logloss: 1.52692\tvalid_1's multi_error: 0.582161\tvalid_1's multi_logloss: 1.5532\n",
      "[39]\tvalid_0's multi_error: 0.573888\tvalid_0's multi_logloss: 1.52475\tvalid_1's multi_error: 0.582025\tvalid_1's multi_logloss: 1.5517\n",
      "[40]\tvalid_0's multi_error: 0.573677\tvalid_0's multi_logloss: 1.52265\tvalid_1's multi_error: 0.582182\tvalid_1's multi_logloss: 1.55022\n",
      "[41]\tvalid_0's multi_error: 0.57339\tvalid_0's multi_logloss: 1.52065\tvalid_1's multi_error: 0.58214\tvalid_1's multi_logloss: 1.54888\n",
      "[42]\tvalid_0's multi_error: 0.573008\tvalid_0's multi_logloss: 1.51865\tvalid_1's multi_error: 0.582014\tvalid_1's multi_logloss: 1.54754\n",
      "[43]\tvalid_0's multi_error: 0.572542\tvalid_0's multi_logloss: 1.51678\tvalid_1's multi_error: 0.581993\tvalid_1's multi_logloss: 1.54629\n",
      "[44]\tvalid_0's multi_error: 0.572228\tvalid_0's multi_logloss: 1.51495\tvalid_1's multi_error: 0.581711\tvalid_1's multi_logloss: 1.54505\n",
      "[45]\tvalid_0's multi_error: 0.572053\tvalid_0's multi_logloss: 1.51323\tvalid_1's multi_error: 0.581784\tvalid_1's multi_logloss: 1.54396\n",
      "[46]\tvalid_0's multi_error: 0.571739\tvalid_0's multi_logloss: 1.5115\tvalid_1's multi_error: 0.581836\tvalid_1's multi_logloss: 1.54282\n",
      "[47]\tvalid_0's multi_error: 0.571492\tvalid_0's multi_logloss: 1.50984\tvalid_1's multi_error: 0.581763\tvalid_1's multi_logloss: 1.54178\n",
      "[48]\tvalid_0's multi_error: 0.571205\tvalid_0's multi_logloss: 1.50826\tvalid_1's multi_error: 0.581585\tvalid_1's multi_logloss: 1.5408\n",
      "[49]\tvalid_0's multi_error: 0.570882\tvalid_0's multi_logloss: 1.50673\tvalid_1's multi_error: 0.581606\tvalid_1's multi_logloss: 1.53989\n",
      "[50]\tvalid_0's multi_error: 0.570689\tvalid_0's multi_logloss: 1.50525\tvalid_1's multi_error: 0.581334\tvalid_1's multi_logloss: 1.539\n",
      "[51]\tvalid_0's multi_error: 0.570527\tvalid_0's multi_logloss: 1.50382\tvalid_1's multi_error: 0.581428\tvalid_1's multi_logloss: 1.5382\n",
      "[52]\tvalid_0's multi_error: 0.570151\tvalid_0's multi_logloss: 1.50244\tvalid_1's multi_error: 0.581512\tvalid_1's multi_logloss: 1.53747\n",
      "[53]\tvalid_0's multi_error: 0.570074\tvalid_0's multi_logloss: 1.50107\tvalid_1's multi_error: 0.581365\tvalid_1's multi_logloss: 1.53672\n",
      "[54]\tvalid_0's multi_error: 0.569801\tvalid_0's multi_logloss: 1.49972\tvalid_1's multi_error: 0.581449\tvalid_1's multi_logloss: 1.53597\n",
      "[55]\tvalid_0's multi_error: 0.569576\tvalid_0's multi_logloss: 1.49837\tvalid_1's multi_error: 0.581365\tvalid_1's multi_logloss: 1.53528\n",
      "[56]\tvalid_0's multi_error: 0.569128\tvalid_0's multi_logloss: 1.4971\tvalid_1's multi_error: 0.581365\tvalid_1's multi_logloss: 1.53462\n",
      "[57]\tvalid_0's multi_error: 0.568935\tvalid_0's multi_logloss: 1.49582\tvalid_1's multi_error: 0.581208\tvalid_1's multi_logloss: 1.53397\n",
      "[58]\tvalid_0's multi_error: 0.568657\tvalid_0's multi_logloss: 1.49455\tvalid_1's multi_error: 0.581271\tvalid_1's multi_logloss: 1.53333\n",
      "[59]\tvalid_0's multi_error: 0.568271\tvalid_0's multi_logloss: 1.49333\tvalid_1's multi_error: 0.581198\tvalid_1's multi_logloss: 1.5327\n",
      "[60]\tvalid_0's multi_error: 0.567948\tvalid_0's multi_logloss: 1.49216\tvalid_1's multi_error: 0.581114\tvalid_1's multi_logloss: 1.53216\n",
      "[61]\tvalid_0's multi_error: 0.56789\tvalid_0's multi_logloss: 1.49099\tvalid_1's multi_error: 0.581062\tvalid_1's multi_logloss: 1.53161\n"
     ]
    },
    {
     "name": "stdout",
     "output_type": "stream",
     "text": [
      "[62]\tvalid_0's multi_error: 0.567396\tvalid_0's multi_logloss: 1.48988\tvalid_1's multi_error: 0.580989\tvalid_1's multi_logloss: 1.53112\n",
      "[63]\tvalid_0's multi_error: 0.567131\tvalid_0's multi_logloss: 1.48876\tvalid_1's multi_error: 0.580842\tvalid_1's multi_logloss: 1.53064\n",
      "[64]\tvalid_0's multi_error: 0.566934\tvalid_0's multi_logloss: 1.48771\tvalid_1's multi_error: 0.580633\tvalid_1's multi_logloss: 1.5302\n",
      "[65]\tvalid_0's multi_error: 0.566723\tvalid_0's multi_logloss: 1.48661\tvalid_1's multi_error: 0.580622\tvalid_1's multi_logloss: 1.52973\n",
      "[66]\tvalid_0's multi_error: 0.566467\tvalid_0's multi_logloss: 1.48557\tvalid_1's multi_error: 0.580444\tvalid_1's multi_logloss: 1.52929\n",
      "[67]\tvalid_0's multi_error: 0.566136\tvalid_0's multi_logloss: 1.48453\tvalid_1's multi_error: 0.580476\tvalid_1's multi_logloss: 1.52885\n",
      "[68]\tvalid_0's multi_error: 0.565889\tvalid_0's multi_logloss: 1.48356\tvalid_1's multi_error: 0.580381\tvalid_1's multi_logloss: 1.52848\n",
      "[69]\tvalid_0's multi_error: 0.565718\tvalid_0's multi_logloss: 1.48258\tvalid_1's multi_error: 0.580245\tvalid_1's multi_logloss: 1.52808\n",
      "[70]\tvalid_0's multi_error: 0.565579\tvalid_0's multi_logloss: 1.48161\tvalid_1's multi_error: 0.580518\tvalid_1's multi_logloss: 1.52769\n",
      "[71]\tvalid_0's multi_error: 0.565346\tvalid_0's multi_logloss: 1.4806\tvalid_1's multi_error: 0.580329\tvalid_1's multi_logloss: 1.52733\n",
      "[72]\tvalid_0's multi_error: 0.564978\tvalid_0's multi_logloss: 1.47961\tvalid_1's multi_error: 0.58013\tvalid_1's multi_logloss: 1.52696\n",
      "[73]\tvalid_0's multi_error: 0.564893\tvalid_0's multi_logloss: 1.4787\tvalid_1's multi_error: 0.580088\tvalid_1's multi_logloss: 1.52665\n",
      "[74]\tvalid_0's multi_error: 0.564642\tvalid_0's multi_logloss: 1.47783\tvalid_1's multi_error: 0.58013\tvalid_1's multi_logloss: 1.52636\n",
      "[75]\tvalid_0's multi_error: 0.564314\tvalid_0's multi_logloss: 1.47691\tvalid_1's multi_error: 0.579973\tvalid_1's multi_logloss: 1.52604\n",
      "[76]\tvalid_0's multi_error: 0.564054\tvalid_0's multi_logloss: 1.47601\tvalid_1's multi_error: 0.57991\tvalid_1's multi_logloss: 1.52576\n",
      "[77]\tvalid_0's multi_error: 0.563785\tvalid_0's multi_logloss: 1.47516\tvalid_1's multi_error: 0.579994\tvalid_1's multi_logloss: 1.5255\n",
      "[78]\tvalid_0's multi_error: 0.563726\tvalid_0's multi_logloss: 1.47431\tvalid_1's multi_error: 0.580193\tvalid_1's multi_logloss: 1.52522\n",
      "[79]\tvalid_0's multi_error: 0.563462\tvalid_0's multi_logloss: 1.47346\tvalid_1's multi_error: 0.580057\tvalid_1's multi_logloss: 1.52494\n",
      "[80]\tvalid_0's multi_error: 0.563134\tvalid_0's multi_logloss: 1.47261\tvalid_1's multi_error: 0.579984\tvalid_1's multi_logloss: 1.52468\n",
      "[81]\tvalid_0's multi_error: 0.563071\tvalid_0's multi_logloss: 1.47178\tvalid_1's multi_error: 0.579858\tvalid_1's multi_logloss: 1.52442\n",
      "[82]\tvalid_0's multi_error: 0.562798\tvalid_0's multi_logloss: 1.47097\tvalid_1's multi_error: 0.579921\tvalid_1's multi_logloss: 1.5242\n",
      "[83]\tvalid_0's multi_error: 0.56269\tvalid_0's multi_logloss: 1.47018\tvalid_1's multi_error: 0.579764\tvalid_1's multi_logloss: 1.52397\n",
      "[84]\tvalid_0's multi_error: 0.562372\tvalid_0's multi_logloss: 1.46937\tvalid_1's multi_error: 0.579345\tvalid_1's multi_logloss: 1.52374\n",
      "[85]\tvalid_0's multi_error: 0.562206\tvalid_0's multi_logloss: 1.4686\tvalid_1's multi_error: 0.57924\tvalid_1's multi_logloss: 1.52357\n",
      "[86]\tvalid_0's multi_error: 0.56212\tvalid_0's multi_logloss: 1.4678\tvalid_1's multi_error: 0.579324\tvalid_1's multi_logloss: 1.52337\n",
      "[87]\tvalid_0's multi_error: 0.561945\tvalid_0's multi_logloss: 1.46703\tvalid_1's multi_error: 0.579188\tvalid_1's multi_logloss: 1.52318\n",
      "[88]\tvalid_0's multi_error: 0.56186\tvalid_0's multi_logloss: 1.46627\tvalid_1's multi_error: 0.579272\tvalid_1's multi_logloss: 1.52295\n",
      "[89]\tvalid_0's multi_error: 0.561699\tvalid_0's multi_logloss: 1.46552\tvalid_1's multi_error: 0.579063\tvalid_1's multi_logloss: 1.52279\n",
      "[90]\tvalid_0's multi_error: 0.561371\tvalid_0's multi_logloss: 1.46478\tvalid_1's multi_error: 0.579261\tvalid_1's multi_logloss: 1.52257\n",
      "[91]\tvalid_0's multi_error: 0.561277\tvalid_0's multi_logloss: 1.46405\tvalid_1's multi_error: 0.579188\tvalid_1's multi_logloss: 1.52242\n",
      "[92]\tvalid_0's multi_error: 0.561053\tvalid_0's multi_logloss: 1.46328\tvalid_1's multi_error: 0.579157\tvalid_1's multi_logloss: 1.52223\n",
      "[93]\tvalid_0's multi_error: 0.560806\tvalid_0's multi_logloss: 1.46252\tvalid_1's multi_error: 0.578916\tvalid_1's multi_logloss: 1.52202\n",
      "[94]\tvalid_0's multi_error: 0.56064\tvalid_0's multi_logloss: 1.46179\tvalid_1's multi_error: 0.579272\tvalid_1's multi_logloss: 1.52181\n",
      "[95]\tvalid_0's multi_error: 0.560312\tvalid_0's multi_logloss: 1.46111\tvalid_1's multi_error: 0.579042\tvalid_1's multi_logloss: 1.52168\n",
      "[96]\tvalid_0's multi_error: 0.560209\tvalid_0's multi_logloss: 1.4604\tvalid_1's multi_error: 0.578905\tvalid_1's multi_logloss: 1.52156\n",
      "[97]\tvalid_0's multi_error: 0.559958\tvalid_0's multi_logloss: 1.4597\tvalid_1's multi_error: 0.579115\tvalid_1's multi_logloss: 1.52139\n",
      "[98]\tvalid_0's multi_error: 0.559846\tvalid_0's multi_logloss: 1.45902\tvalid_1's multi_error: 0.579042\tvalid_1's multi_logloss: 1.52125\n",
      "[99]\tvalid_0's multi_error: 0.559743\tvalid_0's multi_logloss: 1.45833\tvalid_1's multi_error: 0.578864\tvalid_1's multi_logloss: 1.52106\n",
      "[100]\tvalid_0's multi_error: 0.559429\tvalid_0's multi_logloss: 1.45764\tvalid_1's multi_error: 0.578989\tvalid_1's multi_logloss: 1.52095\n",
      "[101]\tvalid_0's multi_error: 0.559281\tvalid_0's multi_logloss: 1.45697\tvalid_1's multi_error: 0.578686\tvalid_1's multi_logloss: 1.52079\n",
      "[102]\tvalid_0's multi_error: 0.559061\tvalid_0's multi_logloss: 1.45634\tvalid_1's multi_error: 0.578947\tvalid_1's multi_logloss: 1.52065\n",
      "[103]\tvalid_0's multi_error: 0.558747\tvalid_0's multi_logloss: 1.4557\tvalid_1's multi_error: 0.579083\tvalid_1's multi_logloss: 1.52054\n",
      "[104]\tvalid_0's multi_error: 0.558608\tvalid_0's multi_logloss: 1.45501\tvalid_1's multi_error: 0.578979\tvalid_1's multi_logloss: 1.52037\n",
      "[105]\tvalid_0's multi_error: 0.558428\tvalid_0's multi_logloss: 1.45438\tvalid_1's multi_error: 0.578738\tvalid_1's multi_logloss: 1.52026\n",
      "[106]\tvalid_0's multi_error: 0.558307\tvalid_0's multi_logloss: 1.45376\tvalid_1's multi_error: 0.57855\tvalid_1's multi_logloss: 1.52014\n",
      "[107]\tvalid_0's multi_error: 0.558208\tvalid_0's multi_logloss: 1.45314\tvalid_1's multi_error: 0.578602\tvalid_1's multi_logloss: 1.52004\n",
      "[108]\tvalid_0's multi_error: 0.558038\tvalid_0's multi_logloss: 1.45247\tvalid_1's multi_error: 0.578905\tvalid_1's multi_logloss: 1.51993\n",
      "[109]\tvalid_0's multi_error: 0.557921\tvalid_0's multi_logloss: 1.45182\tvalid_1's multi_error: 0.578853\tvalid_1's multi_logloss: 1.51982\n",
      "[110]\tvalid_0's multi_error: 0.557832\tvalid_0's multi_logloss: 1.45114\tvalid_1's multi_error: 0.578728\tvalid_1's multi_logloss: 1.51969\n",
      "[111]\tvalid_0's multi_error: 0.557688\tvalid_0's multi_logloss: 1.45049\tvalid_1's multi_error: 0.578759\tvalid_1's multi_logloss: 1.51956\n",
      "[112]\tvalid_0's multi_error: 0.557428\tvalid_0's multi_logloss: 1.44992\tvalid_1's multi_error: 0.578968\tvalid_1's multi_logloss: 1.51949\n",
      "[113]\tvalid_0's multi_error: 0.557212\tvalid_0's multi_logloss: 1.4493\tvalid_1's multi_error: 0.579083\tvalid_1's multi_logloss: 1.51937\n",
      "[114]\tvalid_0's multi_error: 0.556791\tvalid_0's multi_logloss: 1.44863\tvalid_1's multi_error: 0.578905\tvalid_1's multi_logloss: 1.51919\n",
      "[115]\tvalid_0's multi_error: 0.556549\tvalid_0's multi_logloss: 1.44802\tvalid_1's multi_error: 0.578958\tvalid_1's multi_logloss: 1.51908\n",
      "[116]\tvalid_0's multi_error: 0.55623\tvalid_0's multi_logloss: 1.44745\tvalid_1's multi_error: 0.57879\tvalid_1's multi_logloss: 1.519\n",
      "[117]\tvalid_0's multi_error: 0.556199\tvalid_0's multi_logloss: 1.44689\tvalid_1's multi_error: 0.578864\tvalid_1's multi_logloss: 1.51891\n",
      "[118]\tvalid_0's multi_error: 0.555862\tvalid_0's multi_logloss: 1.44627\tvalid_1's multi_error: 0.578832\tvalid_1's multi_logloss: 1.51879\n",
      "[119]\tvalid_0's multi_error: 0.555656\tvalid_0's multi_logloss: 1.44566\tvalid_1's multi_error: 0.579063\tvalid_1's multi_logloss: 1.51872\n",
      "[120]\tvalid_0's multi_error: 0.555472\tvalid_0's multi_logloss: 1.44504\tvalid_1's multi_error: 0.579188\tvalid_1's multi_logloss: 1.51857\n",
      "[121]\tvalid_0's multi_error: 0.555167\tvalid_0's multi_logloss: 1.44448\tvalid_1's multi_error: 0.57924\tvalid_1's multi_logloss: 1.51852\n",
      "[122]\tvalid_0's multi_error: 0.555028\tvalid_0's multi_logloss: 1.44391\tvalid_1's multi_error: 0.579125\tvalid_1's multi_logloss: 1.51842\n"
     ]
    },
    {
     "name": "stdout",
     "output_type": "stream",
     "text": [
      "[123]\tvalid_0's multi_error: 0.554821\tvalid_0's multi_logloss: 1.44332\tvalid_1's multi_error: 0.579104\tvalid_1's multi_logloss: 1.51829\n",
      "[124]\tvalid_0's multi_error: 0.554839\tvalid_0's multi_logloss: 1.44278\tvalid_1's multi_error: 0.579115\tvalid_1's multi_logloss: 1.51822\n",
      "[125]\tvalid_0's multi_error: 0.554588\tvalid_0's multi_logloss: 1.44222\tvalid_1's multi_error: 0.57922\tvalid_1's multi_logloss: 1.51814\n",
      "[126]\tvalid_0's multi_error: 0.554278\tvalid_0's multi_logloss: 1.44169\tvalid_1's multi_error: 0.579272\tvalid_1's multi_logloss: 1.51805\n",
      "[127]\tvalid_0's multi_error: 0.55413\tvalid_0's multi_logloss: 1.44115\tvalid_1's multi_error: 0.579157\tvalid_1's multi_logloss: 1.518\n",
      "[128]\tvalid_0's multi_error: 0.554023\tvalid_0's multi_logloss: 1.44057\tvalid_1's multi_error: 0.578979\tvalid_1's multi_logloss: 1.51791\n",
      "[129]\tvalid_0's multi_error: 0.553929\tvalid_0's multi_logloss: 1.44007\tvalid_1's multi_error: 0.578895\tvalid_1's multi_logloss: 1.51787\n",
      "[130]\tvalid_0's multi_error: 0.553866\tvalid_0's multi_logloss: 1.43957\tvalid_1's multi_error: 0.578916\tvalid_1's multi_logloss: 1.51782\n",
      "[131]\tvalid_0's multi_error: 0.553718\tvalid_0's multi_logloss: 1.43906\tvalid_1's multi_error: 0.579083\tvalid_1's multi_logloss: 1.51779\n",
      "[132]\tvalid_0's multi_error: 0.55335\tvalid_0's multi_logloss: 1.4385\tvalid_1's multi_error: 0.578832\tvalid_1's multi_logloss: 1.51772\n",
      "[133]\tvalid_0's multi_error: 0.553238\tvalid_0's multi_logloss: 1.43796\tvalid_1's multi_error: 0.578895\tvalid_1's multi_logloss: 1.51764\n",
      "[134]\tvalid_0's multi_error: 0.553058\tvalid_0's multi_logloss: 1.43741\tvalid_1's multi_error: 0.578905\tvalid_1's multi_logloss: 1.51757\n",
      "[135]\tvalid_0's multi_error: 0.552879\tvalid_0's multi_logloss: 1.43688\tvalid_1's multi_error: 0.578885\tvalid_1's multi_logloss: 1.51747\n",
      "[136]\tvalid_0's multi_error: 0.552713\tvalid_0's multi_logloss: 1.43632\tvalid_1's multi_error: 0.578811\tvalid_1's multi_logloss: 1.5174\n",
      "[137]\tvalid_0's multi_error: 0.552542\tvalid_0's multi_logloss: 1.4358\tvalid_1's multi_error: 0.578748\tvalid_1's multi_logloss: 1.51735\n",
      "[138]\tvalid_0's multi_error: 0.552426\tvalid_0's multi_logloss: 1.43525\tvalid_1's multi_error: 0.578654\tvalid_1's multi_logloss: 1.51729\n",
      "[139]\tvalid_0's multi_error: 0.55213\tvalid_0's multi_logloss: 1.43474\tvalid_1's multi_error: 0.578644\tvalid_1's multi_logloss: 1.51725\n",
      "[140]\tvalid_0's multi_error: 0.552004\tvalid_0's multi_logloss: 1.43428\tvalid_1's multi_error: 0.578612\tvalid_1's multi_logloss: 1.51724\n",
      "[141]\tvalid_0's multi_error: 0.551829\tvalid_0's multi_logloss: 1.43374\tvalid_1's multi_error: 0.578476\tvalid_1's multi_logloss: 1.51715\n",
      "[142]\tvalid_0's multi_error: 0.551668\tvalid_0's multi_logloss: 1.43326\tvalid_1's multi_error: 0.578476\tvalid_1's multi_logloss: 1.51707\n",
      "[143]\tvalid_0's multi_error: 0.551475\tvalid_0's multi_logloss: 1.43279\tvalid_1's multi_error: 0.578445\tvalid_1's multi_logloss: 1.51703\n",
      "[144]\tvalid_0's multi_error: 0.551268\tvalid_0's multi_logloss: 1.4323\tvalid_1's multi_error: 0.578455\tvalid_1's multi_logloss: 1.51697\n",
      "[145]\tvalid_0's multi_error: 0.551066\tvalid_0's multi_logloss: 1.43179\tvalid_1's multi_error: 0.578298\tvalid_1's multi_logloss: 1.51691\n",
      "[146]\tvalid_0's multi_error: 0.550797\tvalid_0's multi_logloss: 1.43128\tvalid_1's multi_error: 0.578298\tvalid_1's multi_logloss: 1.51686\n",
      "[147]\tvalid_0's multi_error: 0.550618\tvalid_0's multi_logloss: 1.43079\tvalid_1's multi_error: 0.578319\tvalid_1's multi_logloss: 1.51687\n",
      "[148]\tvalid_0's multi_error: 0.55055\tvalid_0's multi_logloss: 1.4303\tvalid_1's multi_error: 0.578194\tvalid_1's multi_logloss: 1.51681\n",
      "[149]\tvalid_0's multi_error: 0.550362\tvalid_0's multi_logloss: 1.42987\tvalid_1's multi_error: 0.578277\tvalid_1's multi_logloss: 1.51681\n",
      "[150]\tvalid_0's multi_error: 0.550192\tvalid_0's multi_logloss: 1.42941\tvalid_1's multi_error: 0.57856\tvalid_1's multi_logloss: 1.51678\n",
      "[151]\tvalid_0's multi_error: 0.550003\tvalid_0's multi_logloss: 1.42895\tvalid_1's multi_error: 0.578434\tvalid_1's multi_logloss: 1.51672\n",
      "[152]\tvalid_0's multi_error: 0.549864\tvalid_0's multi_logloss: 1.42846\tvalid_1's multi_error: 0.578445\tvalid_1's multi_logloss: 1.5167\n",
      "[153]\tvalid_0's multi_error: 0.549667\tvalid_0's multi_logloss: 1.42802\tvalid_1's multi_error: 0.578476\tvalid_1's multi_logloss: 1.51668\n",
      "[154]\tvalid_0's multi_error: 0.549528\tvalid_0's multi_logloss: 1.42756\tvalid_1's multi_error: 0.578529\tvalid_1's multi_logloss: 1.51668\n",
      "[155]\tvalid_0's multi_error: 0.549218\tvalid_0's multi_logloss: 1.42712\tvalid_1's multi_error: 0.578571\tvalid_1's multi_logloss: 1.51664\n",
      "[156]\tvalid_0's multi_error: 0.549137\tvalid_0's multi_logloss: 1.42667\tvalid_1's multi_error: 0.578591\tvalid_1's multi_logloss: 1.51664\n",
      "[157]\tvalid_0's multi_error: 0.549025\tvalid_0's multi_logloss: 1.42617\tvalid_1's multi_error: 0.578759\tvalid_1's multi_logloss: 1.5166\n",
      "[158]\tvalid_0's multi_error: 0.548702\tvalid_0's multi_logloss: 1.42573\tvalid_1's multi_error: 0.578738\tvalid_1's multi_logloss: 1.51658\n",
      "[159]\tvalid_0's multi_error: 0.548586\tvalid_0's multi_logloss: 1.42529\tvalid_1's multi_error: 0.578822\tvalid_1's multi_logloss: 1.51657\n",
      "[160]\tvalid_0's multi_error: 0.54842\tvalid_0's multi_logloss: 1.42484\tvalid_1's multi_error: 0.578822\tvalid_1's multi_logloss: 1.51655\n",
      "[161]\tvalid_0's multi_error: 0.548245\tvalid_0's multi_logloss: 1.42436\tvalid_1's multi_error: 0.578853\tvalid_1's multi_logloss: 1.51648\n",
      "[162]\tvalid_0's multi_error: 0.548002\tvalid_0's multi_logloss: 1.42393\tvalid_1's multi_error: 0.578864\tvalid_1's multi_logloss: 1.51645\n",
      "[163]\tvalid_0's multi_error: 0.547747\tvalid_0's multi_logloss: 1.42348\tvalid_1's multi_error: 0.578801\tvalid_1's multi_logloss: 1.51641\n",
      "[164]\tvalid_0's multi_error: 0.547657\tvalid_0's multi_logloss: 1.42306\tvalid_1's multi_error: 0.578633\tvalid_1's multi_logloss: 1.51643\n",
      "[165]\tvalid_0's multi_error: 0.5475\tvalid_0's multi_logloss: 1.42262\tvalid_1's multi_error: 0.578633\tvalid_1's multi_logloss: 1.51638\n",
      "[166]\tvalid_0's multi_error: 0.547285\tvalid_0's multi_logloss: 1.42219\tvalid_1's multi_error: 0.578571\tvalid_1's multi_logloss: 1.51637\n",
      "[167]\tvalid_0's multi_error: 0.547136\tvalid_0's multi_logloss: 1.42179\tvalid_1's multi_error: 0.578518\tvalid_1's multi_logloss: 1.51634\n",
      "[168]\tvalid_0's multi_error: 0.546988\tvalid_0's multi_logloss: 1.42139\tvalid_1's multi_error: 0.578434\tvalid_1's multi_logloss: 1.51632\n",
      "[169]\tvalid_0's multi_error: 0.546796\tvalid_0's multi_logloss: 1.42096\tvalid_1's multi_error: 0.578414\tvalid_1's multi_logloss: 1.51631\n",
      "[170]\tvalid_0's multi_error: 0.546679\tvalid_0's multi_logloss: 1.4205\tvalid_1's multi_error: 0.578382\tvalid_1's multi_logloss: 1.5163\n",
      "[171]\tvalid_0's multi_error: 0.54663\tvalid_0's multi_logloss: 1.42003\tvalid_1's multi_error: 0.578288\tvalid_1's multi_logloss: 1.51627\n",
      "[172]\tvalid_0's multi_error: 0.546526\tvalid_0's multi_logloss: 1.41958\tvalid_1's multi_error: 0.578309\tvalid_1's multi_logloss: 1.51623\n",
      "[173]\tvalid_0's multi_error: 0.546298\tvalid_0's multi_logloss: 1.41919\tvalid_1's multi_error: 0.578309\tvalid_1's multi_logloss: 1.51623\n",
      "[174]\tvalid_0's multi_error: 0.546244\tvalid_0's multi_logloss: 1.4187\tvalid_1's multi_error: 0.578414\tvalid_1's multi_logloss: 1.51619\n",
      "[175]\tvalid_0's multi_error: 0.546118\tvalid_0's multi_logloss: 1.41826\tvalid_1's multi_error: 0.578487\tvalid_1's multi_logloss: 1.51619\n",
      "[176]\tvalid_0's multi_error: 0.545849\tvalid_0's multi_logloss: 1.41783\tvalid_1's multi_error: 0.578497\tvalid_1's multi_logloss: 1.51614\n",
      "[177]\tvalid_0's multi_error: 0.545634\tvalid_0's multi_logloss: 1.41744\tvalid_1's multi_error: 0.578686\tvalid_1's multi_logloss: 1.51612\n",
      "[178]\tvalid_0's multi_error: 0.545571\tvalid_0's multi_logloss: 1.41698\tvalid_1's multi_error: 0.578728\tvalid_1's multi_logloss: 1.51607\n",
      "[179]\tvalid_0's multi_error: 0.545468\tvalid_0's multi_logloss: 1.41657\tvalid_1's multi_error: 0.578518\tvalid_1's multi_logloss: 1.51607\n",
      "[180]\tvalid_0's multi_error: 0.545167\tvalid_0's multi_logloss: 1.41615\tvalid_1's multi_error: 0.578686\tvalid_1's multi_logloss: 1.51604\n",
      "[181]\tvalid_0's multi_error: 0.545019\tvalid_0's multi_logloss: 1.41573\tvalid_1's multi_error: 0.578686\tvalid_1's multi_logloss: 1.51601\n",
      "[182]\tvalid_0's multi_error: 0.544911\tvalid_0's multi_logloss: 1.41537\tvalid_1's multi_error: 0.578738\tvalid_1's multi_logloss: 1.51604\n",
      "[183]\tvalid_0's multi_error: 0.544853\tvalid_0's multi_logloss: 1.41499\tvalid_1's multi_error: 0.578769\tvalid_1's multi_logloss: 1.51602\n"
     ]
    },
    {
     "name": "stdout",
     "output_type": "stream",
     "text": [
      "[184]\tvalid_0's multi_error: 0.544656\tvalid_0's multi_logloss: 1.41461\tvalid_1's multi_error: 0.578748\tvalid_1's multi_logloss: 1.51602\n",
      "[185]\tvalid_0's multi_error: 0.544431\tvalid_0's multi_logloss: 1.41423\tvalid_1's multi_error: 0.578654\tvalid_1's multi_logloss: 1.516\n",
      "[186]\tvalid_0's multi_error: 0.544324\tvalid_0's multi_logloss: 1.41383\tvalid_1's multi_error: 0.57878\tvalid_1's multi_logloss: 1.516\n",
      "[187]\tvalid_0's multi_error: 0.544108\tvalid_0's multi_logloss: 1.41343\tvalid_1's multi_error: 0.578696\tvalid_1's multi_logloss: 1.51601\n",
      "[188]\tvalid_0's multi_error: 0.543987\tvalid_0's multi_logloss: 1.41304\tvalid_1's multi_error: 0.578612\tvalid_1's multi_logloss: 1.51601\n",
      "[189]\tvalid_0's multi_error: 0.543731\tvalid_0's multi_logloss: 1.41265\tvalid_1's multi_error: 0.578361\tvalid_1's multi_logloss: 1.51599\n",
      "[190]\tvalid_0's multi_error: 0.543637\tvalid_0's multi_logloss: 1.41221\tvalid_1's multi_error: 0.578424\tvalid_1's multi_logloss: 1.51597\n",
      "[191]\tvalid_0's multi_error: 0.54348\tvalid_0's multi_logloss: 1.41185\tvalid_1's multi_error: 0.578414\tvalid_1's multi_logloss: 1.516\n",
      "[192]\tvalid_0's multi_error: 0.543292\tvalid_0's multi_logloss: 1.41136\tvalid_1's multi_error: 0.57833\tvalid_1's multi_logloss: 1.51595\n",
      "[193]\tvalid_0's multi_error: 0.543189\tvalid_0's multi_logloss: 1.41097\tvalid_1's multi_error: 0.578372\tvalid_1's multi_logloss: 1.51592\n",
      "[194]\tvalid_0's multi_error: 0.543036\tvalid_0's multi_logloss: 1.41061\tvalid_1's multi_error: 0.578445\tvalid_1's multi_logloss: 1.51592\n",
      "[195]\tvalid_0's multi_error: 0.542875\tvalid_0's multi_logloss: 1.4102\tvalid_1's multi_error: 0.578445\tvalid_1's multi_logloss: 1.51592\n",
      "[196]\tvalid_0's multi_error: 0.542713\tvalid_0's multi_logloss: 1.40978\tvalid_1's multi_error: 0.578508\tvalid_1's multi_logloss: 1.51586\n",
      "[197]\tvalid_0's multi_error: 0.542547\tvalid_0's multi_logloss: 1.40938\tvalid_1's multi_error: 0.578414\tvalid_1's multi_logloss: 1.51582\n",
      "[198]\tvalid_0's multi_error: 0.542381\tvalid_0's multi_logloss: 1.40896\tvalid_1's multi_error: 0.578455\tvalid_1's multi_logloss: 1.51579\n",
      "[199]\tvalid_0's multi_error: 0.542264\tvalid_0's multi_logloss: 1.40859\tvalid_1's multi_error: 0.578602\tvalid_1's multi_logloss: 1.51577\n",
      "[200]\tvalid_0's multi_error: 0.542063\tvalid_0's multi_logloss: 1.40817\tvalid_1's multi_error: 0.578476\tvalid_1's multi_logloss: 1.51572\n",
      "[201]\tvalid_0's multi_error: 0.541897\tvalid_0's multi_logloss: 1.40782\tvalid_1's multi_error: 0.578487\tvalid_1's multi_logloss: 1.51572\n",
      "[202]\tvalid_0's multi_error: 0.541825\tvalid_0's multi_logloss: 1.40739\tvalid_1's multi_error: 0.578445\tvalid_1's multi_logloss: 1.51569\n",
      "[203]\tvalid_0's multi_error: 0.541618\tvalid_0's multi_logloss: 1.40705\tvalid_1's multi_error: 0.578309\tvalid_1's multi_logloss: 1.51569\n",
      "[204]\tvalid_0's multi_error: 0.541502\tvalid_0's multi_logloss: 1.40668\tvalid_1's multi_error: 0.578351\tvalid_1's multi_logloss: 1.51567\n",
      "[205]\tvalid_0's multi_error: 0.541412\tvalid_0's multi_logloss: 1.40632\tvalid_1's multi_error: 0.578288\tvalid_1's multi_logloss: 1.51568\n",
      "[206]\tvalid_0's multi_error: 0.541206\tvalid_0's multi_logloss: 1.40594\tvalid_1's multi_error: 0.578351\tvalid_1's multi_logloss: 1.51569\n",
      "[207]\tvalid_0's multi_error: 0.540972\tvalid_0's multi_logloss: 1.40557\tvalid_1's multi_error: 0.578204\tvalid_1's multi_logloss: 1.51569\n",
      "[208]\tvalid_0's multi_error: 0.540793\tvalid_0's multi_logloss: 1.4052\tvalid_1's multi_error: 0.578131\tvalid_1's multi_logloss: 1.51569\n",
      "[209]\tvalid_0's multi_error: 0.540726\tvalid_0's multi_logloss: 1.40483\tvalid_1's multi_error: 0.578183\tvalid_1's multi_logloss: 1.51572\n",
      "[210]\tvalid_0's multi_error: 0.540658\tvalid_0's multi_logloss: 1.40446\tvalid_1's multi_error: 0.578037\tvalid_1's multi_logloss: 1.5157\n",
      "[211]\tvalid_0's multi_error: 0.540524\tvalid_0's multi_logloss: 1.40407\tvalid_1's multi_error: 0.578047\tvalid_1's multi_logloss: 1.51566\n",
      "[212]\tvalid_0's multi_error: 0.540385\tvalid_0's multi_logloss: 1.40373\tvalid_1's multi_error: 0.578026\tvalid_1's multi_logloss: 1.51568\n",
      "[213]\tvalid_0's multi_error: 0.540192\tvalid_0's multi_logloss: 1.40337\tvalid_1's multi_error: 0.577901\tvalid_1's multi_logloss: 1.51569\n",
      "[214]\tvalid_0's multi_error: 0.540089\tvalid_0's multi_logloss: 1.40294\tvalid_1's multi_error: 0.577932\tvalid_1's multi_logloss: 1.51565\n",
      "[215]\tvalid_0's multi_error: 0.5399\tvalid_0's multi_logloss: 1.40255\tvalid_1's multi_error: 0.57789\tvalid_1's multi_logloss: 1.5156\n",
      "[216]\tvalid_0's multi_error: 0.53968\tvalid_0's multi_logloss: 1.40222\tvalid_1's multi_error: 0.57789\tvalid_1's multi_logloss: 1.5156\n",
      "[217]\tvalid_0's multi_error: 0.539492\tvalid_0's multi_logloss: 1.40183\tvalid_1's multi_error: 0.577984\tvalid_1's multi_logloss: 1.5156\n",
      "[218]\tvalid_0's multi_error: 0.539304\tvalid_0's multi_logloss: 1.40147\tvalid_1's multi_error: 0.577953\tvalid_1's multi_logloss: 1.51562\n",
      "[219]\tvalid_0's multi_error: 0.539218\tvalid_0's multi_logloss: 1.40118\tvalid_1's multi_error: 0.577901\tvalid_1's multi_logloss: 1.51562\n",
      "[220]\tvalid_0's multi_error: 0.539147\tvalid_0's multi_logloss: 1.40083\tvalid_1's multi_error: 0.577901\tvalid_1's multi_logloss: 1.51562\n",
      "[221]\tvalid_0's multi_error: 0.538999\tvalid_0's multi_logloss: 1.40039\tvalid_1's multi_error: 0.578079\tvalid_1's multi_logloss: 1.51559\n",
      "[222]\tvalid_0's multi_error: 0.538859\tvalid_0's multi_logloss: 1.39998\tvalid_1's multi_error: 0.578016\tvalid_1's multi_logloss: 1.51556\n",
      "[223]\tvalid_0's multi_error: 0.538707\tvalid_0's multi_logloss: 1.39965\tvalid_1's multi_error: 0.578058\tvalid_1's multi_logloss: 1.51555\n",
      "[224]\tvalid_0's multi_error: 0.538581\tvalid_0's multi_logloss: 1.39932\tvalid_1's multi_error: 0.577974\tvalid_1's multi_logloss: 1.51552\n",
      "[225]\tvalid_0's multi_error: 0.538469\tvalid_0's multi_logloss: 1.39898\tvalid_1's multi_error: 0.577869\tvalid_1's multi_logloss: 1.51553\n",
      "[226]\tvalid_0's multi_error: 0.538366\tvalid_0's multi_logloss: 1.39864\tvalid_1's multi_error: 0.577911\tvalid_1's multi_logloss: 1.5155\n",
      "[227]\tvalid_0's multi_error: 0.538213\tvalid_0's multi_logloss: 1.39832\tvalid_1's multi_error: 0.577974\tvalid_1's multi_logloss: 1.51553\n",
      "[228]\tvalid_0's multi_error: 0.537998\tvalid_0's multi_logloss: 1.39794\tvalid_1's multi_error: 0.577953\tvalid_1's multi_logloss: 1.51553\n",
      "[229]\tvalid_0's multi_error: 0.537828\tvalid_0's multi_logloss: 1.39752\tvalid_1's multi_error: 0.577859\tvalid_1's multi_logloss: 1.5155\n",
      "[230]\tvalid_0's multi_error: 0.537626\tvalid_0's multi_logloss: 1.39711\tvalid_1's multi_error: 0.577744\tvalid_1's multi_logloss: 1.51546\n",
      "[231]\tvalid_0's multi_error: 0.537585\tvalid_0's multi_logloss: 1.39671\tvalid_1's multi_error: 0.577597\tvalid_1's multi_logloss: 1.51543\n",
      "[232]\tvalid_0's multi_error: 0.537374\tvalid_0's multi_logloss: 1.39634\tvalid_1's multi_error: 0.577618\tvalid_1's multi_logloss: 1.51542\n",
      "[233]\tvalid_0's multi_error: 0.537114\tvalid_0's multi_logloss: 1.39595\tvalid_1's multi_error: 0.577817\tvalid_1's multi_logloss: 1.51537\n",
      "[234]\tvalid_0's multi_error: 0.537002\tvalid_0's multi_logloss: 1.39559\tvalid_1's multi_error: 0.577775\tvalid_1's multi_logloss: 1.51536\n",
      "[235]\tvalid_0's multi_error: 0.536912\tvalid_0's multi_logloss: 1.39526\tvalid_1's multi_error: 0.577827\tvalid_1's multi_logloss: 1.51535\n",
      "[236]\tvalid_0's multi_error: 0.536809\tvalid_0's multi_logloss: 1.39494\tvalid_1's multi_error: 0.577712\tvalid_1's multi_logloss: 1.51532\n",
      "[237]\tvalid_0's multi_error: 0.536715\tvalid_0's multi_logloss: 1.39462\tvalid_1's multi_error: 0.577733\tvalid_1's multi_logloss: 1.51531\n",
      "[238]\tvalid_0's multi_error: 0.536567\tvalid_0's multi_logloss: 1.39422\tvalid_1's multi_error: 0.57766\tvalid_1's multi_logloss: 1.51529\n",
      "[239]\tvalid_0's multi_error: 0.53645\tvalid_0's multi_logloss: 1.39389\tvalid_1's multi_error: 0.577639\tvalid_1's multi_logloss: 1.51528\n",
      "[240]\tvalid_0's multi_error: 0.53632\tvalid_0's multi_logloss: 1.39356\tvalid_1's multi_error: 0.577628\tvalid_1's multi_logloss: 1.51528\n",
      "[241]\tvalid_0's multi_error: 0.536217\tvalid_0's multi_logloss: 1.39326\tvalid_1's multi_error: 0.577597\tvalid_1's multi_logloss: 1.51531\n",
      "[242]\tvalid_0's multi_error: 0.536047\tvalid_0's multi_logloss: 1.39292\tvalid_1's multi_error: 0.577702\tvalid_1's multi_logloss: 1.51528\n",
      "[243]\tvalid_0's multi_error: 0.535934\tvalid_0's multi_logloss: 1.39254\tvalid_1's multi_error: 0.577524\tvalid_1's multi_logloss: 1.51526\n",
      "[244]\tvalid_0's multi_error: 0.535831\tvalid_0's multi_logloss: 1.39219\tvalid_1's multi_error: 0.577492\tvalid_1's multi_logloss: 1.51527\n"
     ]
    },
    {
     "name": "stdout",
     "output_type": "stream",
     "text": [
      "[245]\tvalid_0's multi_error: 0.535674\tvalid_0's multi_logloss: 1.39182\tvalid_1's multi_error: 0.577492\tvalid_1's multi_logloss: 1.51525\n",
      "[246]\tvalid_0's multi_error: 0.53545\tvalid_0's multi_logloss: 1.39142\tvalid_1's multi_error: 0.577576\tvalid_1's multi_logloss: 1.51523\n",
      "[247]\tvalid_0's multi_error: 0.53536\tvalid_0's multi_logloss: 1.39112\tvalid_1's multi_error: 0.577597\tvalid_1's multi_logloss: 1.51523\n",
      "[248]\tvalid_0's multi_error: 0.535262\tvalid_0's multi_logloss: 1.39079\tvalid_1's multi_error: 0.577587\tvalid_1's multi_logloss: 1.51523\n",
      "[249]\tvalid_0's multi_error: 0.535221\tvalid_0's multi_logloss: 1.3904\tvalid_1's multi_error: 0.57767\tvalid_1's multi_logloss: 1.51522\n",
      "[250]\tvalid_0's multi_error: 0.535019\tvalid_0's multi_logloss: 1.39003\tvalid_1's multi_error: 0.57766\tvalid_1's multi_logloss: 1.5152\n",
      "[251]\tvalid_0's multi_error: 0.534835\tvalid_0's multi_logloss: 1.38969\tvalid_1's multi_error: 0.577649\tvalid_1's multi_logloss: 1.51517\n",
      "[252]\tvalid_0's multi_error: 0.534683\tvalid_0's multi_logloss: 1.38932\tvalid_1's multi_error: 0.57767\tvalid_1's multi_logloss: 1.51517\n",
      "[253]\tvalid_0's multi_error: 0.534589\tvalid_0's multi_logloss: 1.38897\tvalid_1's multi_error: 0.577775\tvalid_1's multi_logloss: 1.51517\n",
      "[254]\tvalid_0's multi_error: 0.534382\tvalid_0's multi_logloss: 1.38865\tvalid_1's multi_error: 0.577754\tvalid_1's multi_logloss: 1.51517\n",
      "[255]\tvalid_0's multi_error: 0.534248\tvalid_0's multi_logloss: 1.38828\tvalid_1's multi_error: 0.57788\tvalid_1's multi_logloss: 1.51517\n",
      "[256]\tvalid_0's multi_error: 0.534095\tvalid_0's multi_logloss: 1.38793\tvalid_1's multi_error: 0.577817\tvalid_1's multi_logloss: 1.51517\n",
      "[257]\tvalid_0's multi_error: 0.533978\tvalid_0's multi_logloss: 1.38753\tvalid_1's multi_error: 0.577848\tvalid_1's multi_logloss: 1.51515\n",
      "[258]\tvalid_0's multi_error: 0.533759\tvalid_0's multi_logloss: 1.38715\tvalid_1's multi_error: 0.577806\tvalid_1's multi_logloss: 1.51513\n",
      "[259]\tvalid_0's multi_error: 0.533673\tvalid_0's multi_logloss: 1.38676\tvalid_1's multi_error: 0.577869\tvalid_1's multi_logloss: 1.51515\n",
      "[260]\tvalid_0's multi_error: 0.533521\tvalid_0's multi_logloss: 1.3864\tvalid_1's multi_error: 0.57789\tvalid_1's multi_logloss: 1.51515\n",
      "[261]\tvalid_0's multi_error: 0.533359\tvalid_0's multi_logloss: 1.38605\tvalid_1's multi_error: 0.57788\tvalid_1's multi_logloss: 1.51512\n",
      "[262]\tvalid_0's multi_error: 0.533149\tvalid_0's multi_logloss: 1.38574\tvalid_1's multi_error: 0.577859\tvalid_1's multi_logloss: 1.51512\n",
      "[263]\tvalid_0's multi_error: 0.533009\tvalid_0's multi_logloss: 1.38537\tvalid_1's multi_error: 0.577785\tvalid_1's multi_logloss: 1.5151\n",
      "[264]\tvalid_0's multi_error: 0.532911\tvalid_0's multi_logloss: 1.38503\tvalid_1's multi_error: 0.577785\tvalid_1's multi_logloss: 1.5151\n",
      "[265]\tvalid_0's multi_error: 0.532749\tvalid_0's multi_logloss: 1.38473\tvalid_1's multi_error: 0.577765\tvalid_1's multi_logloss: 1.51509\n",
      "[266]\tvalid_0's multi_error: 0.532538\tvalid_0's multi_logloss: 1.38435\tvalid_1's multi_error: 0.577932\tvalid_1's multi_logloss: 1.51508\n",
      "[267]\tvalid_0's multi_error: 0.532399\tvalid_0's multi_logloss: 1.38406\tvalid_1's multi_error: 0.577901\tvalid_1's multi_logloss: 1.5151\n",
      "[268]\tvalid_0's multi_error: 0.532265\tvalid_0's multi_logloss: 1.38369\tvalid_1's multi_error: 0.578016\tvalid_1's multi_logloss: 1.5151\n",
      "[269]\tvalid_0's multi_error: 0.532162\tvalid_0's multi_logloss: 1.38335\tvalid_1's multi_error: 0.578026\tvalid_1's multi_logloss: 1.51511\n",
      "[270]\tvalid_0's multi_error: 0.532063\tvalid_0's multi_logloss: 1.38298\tvalid_1's multi_error: 0.577984\tvalid_1's multi_logloss: 1.5151\n",
      "[271]\tvalid_0's multi_error: 0.532005\tvalid_0's multi_logloss: 1.38264\tvalid_1's multi_error: 0.577963\tvalid_1's multi_logloss: 1.51509\n",
      "[272]\tvalid_0's multi_error: 0.531767\tvalid_0's multi_logloss: 1.38227\tvalid_1's multi_error: 0.577984\tvalid_1's multi_logloss: 1.51508\n",
      "[273]\tvalid_0's multi_error: 0.531632\tvalid_0's multi_logloss: 1.38192\tvalid_1's multi_error: 0.57789\tvalid_1's multi_logloss: 1.51507\n",
      "[274]\tvalid_0's multi_error: 0.531498\tvalid_0's multi_logloss: 1.3816\tvalid_1's multi_error: 0.577785\tvalid_1's multi_logloss: 1.51508\n",
      "[275]\tvalid_0's multi_error: 0.531341\tvalid_0's multi_logloss: 1.38129\tvalid_1's multi_error: 0.577838\tvalid_1's multi_logloss: 1.51508\n",
      "[276]\tvalid_0's multi_error: 0.531251\tvalid_0's multi_logloss: 1.38094\tvalid_1's multi_error: 0.577785\tvalid_1's multi_logloss: 1.51507\n",
      "[277]\tvalid_0's multi_error: 0.531233\tvalid_0's multi_logloss: 1.3806\tvalid_1's multi_error: 0.577785\tvalid_1's multi_logloss: 1.51508\n",
      "[278]\tvalid_0's multi_error: 0.531134\tvalid_0's multi_logloss: 1.38026\tvalid_1's multi_error: 0.577754\tvalid_1's multi_logloss: 1.51505\n",
      "[279]\tvalid_0's multi_error: 0.531013\tvalid_0's multi_logloss: 1.37992\tvalid_1's multi_error: 0.577702\tvalid_1's multi_logloss: 1.51505\n",
      "[280]\tvalid_0's multi_error: 0.530829\tvalid_0's multi_logloss: 1.3796\tvalid_1's multi_error: 0.577869\tvalid_1's multi_logloss: 1.51508\n",
      "[281]\tvalid_0's multi_error: 0.530582\tvalid_0's multi_logloss: 1.37927\tvalid_1's multi_error: 0.577744\tvalid_1's multi_logloss: 1.51507\n",
      "[282]\tvalid_0's multi_error: 0.530425\tvalid_0's multi_logloss: 1.37898\tvalid_1's multi_error: 0.577639\tvalid_1's multi_logloss: 1.51506\n",
      "[283]\tvalid_0's multi_error: 0.530291\tvalid_0's multi_logloss: 1.37865\tvalid_1's multi_error: 0.577639\tvalid_1's multi_logloss: 1.51506\n",
      "[284]\tvalid_0's multi_error: 0.530111\tvalid_0's multi_logloss: 1.37836\tvalid_1's multi_error: 0.57767\tvalid_1's multi_logloss: 1.51506\n",
      "[285]\tvalid_0's multi_error: 0.530044\tvalid_0's multi_logloss: 1.37805\tvalid_1's multi_error: 0.577639\tvalid_1's multi_logloss: 1.51507\n",
      "[286]\tvalid_0's multi_error: 0.529941\tvalid_0's multi_logloss: 1.37771\tvalid_1's multi_error: 0.57767\tvalid_1's multi_logloss: 1.5151\n",
      "[287]\tvalid_0's multi_error: 0.52977\tvalid_0's multi_logloss: 1.37733\tvalid_1's multi_error: 0.57767\tvalid_1's multi_logloss: 1.51508\n",
      "[288]\tvalid_0's multi_error: 0.529564\tvalid_0's multi_logloss: 1.377\tvalid_1's multi_error: 0.577754\tvalid_1's multi_logloss: 1.51511\n",
      "[289]\tvalid_0's multi_error: 0.529367\tvalid_0's multi_logloss: 1.37669\tvalid_1's multi_error: 0.577775\tvalid_1's multi_logloss: 1.51513\n",
      "[290]\tvalid_0's multi_error: 0.529196\tvalid_0's multi_logloss: 1.37639\tvalid_1's multi_error: 0.577869\tvalid_1's multi_logloss: 1.51512\n",
      "[291]\tvalid_0's multi_error: 0.528972\tvalid_0's multi_logloss: 1.37605\tvalid_1's multi_error: 0.577806\tvalid_1's multi_logloss: 1.51512\n",
      "[292]\tvalid_0's multi_error: 0.52877\tvalid_0's multi_logloss: 1.37569\tvalid_1's multi_error: 0.577806\tvalid_1's multi_logloss: 1.51511\n",
      "[293]\tvalid_0's multi_error: 0.528721\tvalid_0's multi_logloss: 1.37534\tvalid_1's multi_error: 0.577901\tvalid_1's multi_logloss: 1.51511\n",
      "[294]\tvalid_0's multi_error: 0.528541\tvalid_0's multi_logloss: 1.37499\tvalid_1's multi_error: 0.57812\tvalid_1's multi_logloss: 1.51511\n",
      "[295]\tvalid_0's multi_error: 0.528348\tvalid_0's multi_logloss: 1.37464\tvalid_1's multi_error: 0.578037\tvalid_1's multi_logloss: 1.51511\n",
      "[296]\tvalid_0's multi_error: 0.528317\tvalid_0's multi_logloss: 1.37425\tvalid_1's multi_error: 0.578037\tvalid_1's multi_logloss: 1.51509\n",
      "[297]\tvalid_0's multi_error: 0.528012\tvalid_0's multi_logloss: 1.37393\tvalid_1's multi_error: 0.577963\tvalid_1's multi_logloss: 1.51512\n",
      "[298]\tvalid_0's multi_error: 0.527859\tvalid_0's multi_logloss: 1.37361\tvalid_1's multi_error: 0.577963\tvalid_1's multi_logloss: 1.51512\n",
      "[299]\tvalid_0's multi_error: 0.527828\tvalid_0's multi_logloss: 1.37329\tvalid_1's multi_error: 0.577848\tvalid_1's multi_logloss: 1.51512\n",
      "[300]\tvalid_0's multi_error: 0.527666\tvalid_0's multi_logloss: 1.3729\tvalid_1's multi_error: 0.577796\tvalid_1's multi_logloss: 1.51514\n",
      "[301]\tvalid_0's multi_error: 0.527581\tvalid_0's multi_logloss: 1.37258\tvalid_1's multi_error: 0.577838\tvalid_1's multi_logloss: 1.51513\n",
      "[302]\tvalid_0's multi_error: 0.527568\tvalid_0's multi_logloss: 1.37226\tvalid_1's multi_error: 0.577963\tvalid_1's multi_logloss: 1.51513\n",
      "[303]\tvalid_0's multi_error: 0.527402\tvalid_0's multi_logloss: 1.37192\tvalid_1's multi_error: 0.57788\tvalid_1's multi_logloss: 1.51514\n",
      "[304]\tvalid_0's multi_error: 0.52733\tvalid_0's multi_logloss: 1.37157\tvalid_1's multi_error: 0.577754\tvalid_1's multi_logloss: 1.51514\n",
      "[305]\tvalid_0's multi_error: 0.527218\tvalid_0's multi_logloss: 1.37122\tvalid_1's multi_error: 0.577932\tvalid_1's multi_logloss: 1.51514\n"
     ]
    },
    {
     "name": "stdout",
     "output_type": "stream",
     "text": [
      "[306]\tvalid_0's multi_error: 0.527101\tvalid_0's multi_logloss: 1.37089\tvalid_1's multi_error: 0.577827\tvalid_1's multi_logloss: 1.51514\n",
      "[307]\tvalid_0's multi_error: 0.527025\tvalid_0's multi_logloss: 1.37058\tvalid_1's multi_error: 0.577859\tvalid_1's multi_logloss: 1.51516\n",
      "[308]\tvalid_0's multi_error: 0.526917\tvalid_0's multi_logloss: 1.37022\tvalid_1's multi_error: 0.577806\tvalid_1's multi_logloss: 1.51515\n",
      "[309]\tvalid_0's multi_error: 0.526679\tvalid_0's multi_logloss: 1.36991\tvalid_1's multi_error: 0.577838\tvalid_1's multi_logloss: 1.51515\n",
      "[310]\tvalid_0's multi_error: 0.526545\tvalid_0's multi_logloss: 1.36955\tvalid_1's multi_error: 0.577901\tvalid_1's multi_logloss: 1.51513\n",
      "[311]\tvalid_0's multi_error: 0.526406\tvalid_0's multi_logloss: 1.36917\tvalid_1's multi_error: 0.577911\tvalid_1's multi_logloss: 1.51511\n",
      "[312]\tvalid_0's multi_error: 0.526365\tvalid_0's multi_logloss: 1.36883\tvalid_1's multi_error: 0.577984\tvalid_1's multi_logloss: 1.51511\n",
      "[313]\tvalid_0's multi_error: 0.526235\tvalid_0's multi_logloss: 1.36848\tvalid_1's multi_error: 0.577963\tvalid_1's multi_logloss: 1.51512\n",
      "[314]\tvalid_0's multi_error: 0.526132\tvalid_0's multi_logloss: 1.36814\tvalid_1's multi_error: 0.577953\tvalid_1's multi_logloss: 1.51515\n",
      "[315]\tvalid_0's multi_error: 0.525984\tvalid_0's multi_logloss: 1.36783\tvalid_1's multi_error: 0.577932\tvalid_1's multi_logloss: 1.51516\n",
      "[316]\tvalid_0's multi_error: 0.525867\tvalid_0's multi_logloss: 1.36753\tvalid_1's multi_error: 0.577785\tvalid_1's multi_logloss: 1.51519\n",
      "[317]\tvalid_0's multi_error: 0.525706\tvalid_0's multi_logloss: 1.36723\tvalid_1's multi_error: 0.577869\tvalid_1's multi_logloss: 1.51521\n",
      "[318]\tvalid_0's multi_error: 0.525621\tvalid_0's multi_logloss: 1.36699\tvalid_1's multi_error: 0.577869\tvalid_1's multi_logloss: 1.51522\n",
      "[319]\tvalid_0's multi_error: 0.525544\tvalid_0's multi_logloss: 1.3667\tvalid_1's multi_error: 0.577932\tvalid_1's multi_logloss: 1.51525\n",
      "[320]\tvalid_0's multi_error: 0.525387\tvalid_0's multi_logloss: 1.36634\tvalid_1's multi_error: 0.577806\tvalid_1's multi_logloss: 1.51527\n",
      "[321]\tvalid_0's multi_error: 0.525289\tvalid_0's multi_logloss: 1.36602\tvalid_1's multi_error: 0.577901\tvalid_1's multi_logloss: 1.51528\n",
      "[322]\tvalid_0's multi_error: 0.525168\tvalid_0's multi_logloss: 1.3657\tvalid_1's multi_error: 0.57789\tvalid_1's multi_logloss: 1.51529\n",
      "[323]\tvalid_0's multi_error: 0.525064\tvalid_0's multi_logloss: 1.36536\tvalid_1's multi_error: 0.57789\tvalid_1's multi_logloss: 1.51531\n",
      "[324]\tvalid_0's multi_error: 0.52475\tvalid_0's multi_logloss: 1.36505\tvalid_1's multi_error: 0.577754\tvalid_1's multi_logloss: 1.51531\n",
      "[325]\tvalid_0's multi_error: 0.524598\tvalid_0's multi_logloss: 1.36475\tvalid_1's multi_error: 0.577806\tvalid_1's multi_logloss: 1.51532\n",
      "[326]\tvalid_0's multi_error: 0.524535\tvalid_0's multi_logloss: 1.36442\tvalid_1's multi_error: 0.577723\tvalid_1's multi_logloss: 1.51532\n",
      "[327]\tvalid_0's multi_error: 0.524351\tvalid_0's multi_logloss: 1.36408\tvalid_1's multi_error: 0.577733\tvalid_1's multi_logloss: 1.51535\n",
      "[328]\tvalid_0's multi_error: 0.524172\tvalid_0's multi_logloss: 1.36374\tvalid_1's multi_error: 0.577785\tvalid_1's multi_logloss: 1.51536\n",
      "[329]\tvalid_0's multi_error: 0.523992\tvalid_0's multi_logloss: 1.36345\tvalid_1's multi_error: 0.577785\tvalid_1's multi_logloss: 1.51537\n",
      "[330]\tvalid_0's multi_error: 0.52388\tvalid_0's multi_logloss: 1.36314\tvalid_1's multi_error: 0.57788\tvalid_1's multi_logloss: 1.51537\n",
      "[331]\tvalid_0's multi_error: 0.523674\tvalid_0's multi_logloss: 1.36284\tvalid_1's multi_error: 0.577932\tvalid_1's multi_logloss: 1.51536\n",
      "[332]\tvalid_0's multi_error: 0.523472\tvalid_0's multi_logloss: 1.36255\tvalid_1's multi_error: 0.577796\tvalid_1's multi_logloss: 1.51536\n",
      "[333]\tvalid_0's multi_error: 0.523333\tvalid_0's multi_logloss: 1.36226\tvalid_1's multi_error: 0.577785\tvalid_1's multi_logloss: 1.51537\n",
      "[334]\tvalid_0's multi_error: 0.523203\tvalid_0's multi_logloss: 1.36197\tvalid_1's multi_error: 0.577765\tvalid_1's multi_logloss: 1.51537\n",
      "[335]\tvalid_0's multi_error: 0.522929\tvalid_0's multi_logloss: 1.36159\tvalid_1's multi_error: 0.577922\tvalid_1's multi_logloss: 1.51536\n",
      "[336]\tvalid_0's multi_error: 0.522785\tvalid_0's multi_logloss: 1.36126\tvalid_1's multi_error: 0.578099\tvalid_1's multi_logloss: 1.51535\n",
      "[337]\tvalid_0's multi_error: 0.522588\tvalid_0's multi_logloss: 1.36093\tvalid_1's multi_error: 0.577922\tvalid_1's multi_logloss: 1.51535\n",
      "[338]\tvalid_0's multi_error: 0.522413\tvalid_0's multi_logloss: 1.3606\tvalid_1's multi_error: 0.578016\tvalid_1's multi_logloss: 1.51537\n",
      "[339]\tvalid_0's multi_error: 0.522332\tvalid_0's multi_logloss: 1.36029\tvalid_1's multi_error: 0.578026\tvalid_1's multi_logloss: 1.51537\n",
      "[340]\tvalid_0's multi_error: 0.52218\tvalid_0's multi_logloss: 1.36001\tvalid_1's multi_error: 0.577859\tvalid_1's multi_logloss: 1.5154\n",
      "[341]\tvalid_0's multi_error: 0.522063\tvalid_0's multi_logloss: 1.35965\tvalid_1's multi_error: 0.57788\tvalid_1's multi_logloss: 1.5154\n",
      "[342]\tvalid_0's multi_error: 0.521875\tvalid_0's multi_logloss: 1.35935\tvalid_1's multi_error: 0.577681\tvalid_1's multi_logloss: 1.51541\n",
      "[343]\tvalid_0's multi_error: 0.521825\tvalid_0's multi_logloss: 1.35899\tvalid_1's multi_error: 0.577901\tvalid_1's multi_logloss: 1.5154\n",
      "[344]\tvalid_0's multi_error: 0.521691\tvalid_0's multi_logloss: 1.35867\tvalid_1's multi_error: 0.577922\tvalid_1's multi_logloss: 1.5154\n",
      "Eval ACC: 0.42250764141858227\n"
     ]
    }
   ],
   "source": [
    "clf = lgb.LGBMClassifier(**params)\n",
    "    \n",
    "clf.fit(train[feature_cols], train[label_col], early_stopping_rounds=100, eval_set=[(train[feature_cols], train[label_col]), (eval[feature_cols], eval[label_col])], eval_metric='multi_error', verbose=True, categorical_feature=cat_cols)\n",
    "eval_score = accuracy_score(eval[label_col], clf.predict(eval[feature_cols]))\n",
    "print('Eval ACC: {}'.format(eval_score))"
   ]
  },
  {
   "cell_type": "code",
   "execution_count": 58,
   "id": "a92c1225",
   "metadata": {},
   "outputs": [
    {
     "name": "stdout",
     "output_type": "stream",
     "text": [
      "Fitting 5 folds for each of 1 candidates, totalling 5 fits\n",
      "{'n_estimators': 300} 0.4196118422624885\n"
     ]
    }
   ],
   "source": []
  },
  {
   "cell_type": "code",
   "execution_count": null,
   "id": "f780becd",
   "metadata": {},
   "outputs": [],
   "source": [
    "clf = lgb.LGBMClassifier(**params)\n",
    "\n",
    "clf.fit(train[feature_cols], train[label_col], eval_metric='multi_error', verbose=False, categorical_feature=cat_cols)\n",
    "\n",
    "eval_score_acc = accuracy_score(train[label_col], clf.predict(train[feature_cols]))\n",
    "\n",
    "print('ACC: {}'.format(eval_score_acc))"
   ]
  },
  {
   "cell_type": "code",
   "execution_count": null,
   "id": "1a2d5950",
   "metadata": {},
   "outputs": [],
   "source": [
    "preds = clf.predict(test[feature_cols])\n",
    "preds"
   ]
  },
  {
   "cell_type": "code",
   "execution_count": null,
   "id": "6c84c594",
   "metadata": {},
   "outputs": [],
   "source": [
    "plt.rcParams['figure.figsize'] = (12,50)\n",
    "lgb.plot_importance(clf)\n",
    "plt.show()"
   ]
  },
  {
   "cell_type": "code",
   "execution_count": null,
   "id": "e563eba9",
   "metadata": {},
   "outputs": [],
   "source": [
    "preds = label.inverse_transform(preds)\n",
    "preds"
   ]
  },
  {
   "cell_type": "code",
   "execution_count": null,
   "id": "bbef83e1",
   "metadata": {},
   "outputs": [],
   "source": [
    "test1 = pd.read_csv(\"test.csv\")"
   ]
  },
  {
   "cell_type": "code",
   "execution_count": null,
   "id": "5d5f9025",
   "metadata": {},
   "outputs": [],
   "source": [
    "submit = pd.DataFrame({'case_id': test1.case_id, 'Stay': preds})"
   ]
  },
  {
   "cell_type": "code",
   "execution_count": null,
   "id": "ec7f64df",
   "metadata": {},
   "outputs": [],
   "source": [
    "submit.head()"
   ]
  },
  {
   "cell_type": "code",
   "execution_count": null,
   "id": "945cfe1f",
   "metadata": {},
   "outputs": [],
   "source": [
    "submit.to_csv('submissionjhhalgcccc.csv', index=False)"
   ]
  },
  {
   "cell_type": "code",
   "execution_count": null,
   "id": "bc740719",
   "metadata": {},
   "outputs": [],
   "source": []
  }
 ],
 "metadata": {
  "kernelspec": {
   "display_name": "Python 3",
   "language": "python",
   "name": "python3"
  },
  "language_info": {
   "codemirror_mode": {
    "name": "ipython",
    "version": 3
   },
   "file_extension": ".py",
   "mimetype": "text/x-python",
   "name": "python",
   "nbconvert_exporter": "python",
   "pygments_lexer": "ipython3",
   "version": "3.8.8"
  }
 },
 "nbformat": 4,
 "nbformat_minor": 5
}
